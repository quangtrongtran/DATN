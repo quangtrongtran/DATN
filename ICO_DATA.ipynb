{
  "nbformat": 4,
  "nbformat_minor": 0,
  "metadata": {
    "accelerator": "GPU",
    "colab": {
      "name": "ICO_DATA.ipynb",
      "provenance": [],
      "collapsed_sections": [],
      "include_colab_link": true
    },
    "kernelspec": {
      "display_name": "Python 3",
      "name": "python3"
    },
    "language_info": {
      "codemirror_mode": {
        "name": "ipython",
        "version": 3
      },
      "file_extension": ".py",
      "mimetype": "text/x-python",
      "name": "python",
      "nbconvert_exporter": "python",
      "pygments_lexer": "ipython3",
      "version": "3.6.5"
    }
  },
  "cells": [
    {
      "cell_type": "markdown",
      "metadata": {
        "id": "view-in-github",
        "colab_type": "text"
      },
      "source": [
        "<a href=\"https://colab.research.google.com/github/quangtrongtran/DATN/blob/main/ICO_DATA.ipynb\" target=\"_parent\"><img src=\"https://colab.research.google.com/assets/colab-badge.svg\" alt=\"Open In Colab\"/></a>"
      ]
    },
    {
      "cell_type": "markdown",
      "metadata": {
        "id": "_2zFRFAG5pLQ"
      },
      "source": [
        "#  **FINAL PROJECT**\n",
        "## DỰ ĐOÁN GIÁ ICO SỬ DỤNG MACHINE LEARNING\n",
        "![alt text](https://i.imgur.com/mFQhIcT.jpg)\n"
      ]
    },
    {
      "cell_type": "code",
      "metadata": {
        "id": "gANWsAJrGJdF"
      },
      "source": [
        ""
      ],
      "execution_count": null,
      "outputs": []
    },
    {
      "cell_type": "markdown",
      "metadata": {
        "id": "z3x9hWZQ5pLZ"
      },
      "source": [
        "### **CÁC PHẦN** \n",
        "- Import các tư viện cần thiết và viết các hàm cần thiết.\n",
        "- Loading dataset vào trong biến.\n",
        "- In ra biểu đồ phân tán thể hiện mối tương quan giữa các input với output.\n",
        "- Mã hóa và phân chia dữ liệu.\n",
        "- Sử dụng hồi quy đa biến thông thường để tính toán dự đoán kết quả => chứng sự ảnh hưởng của overfitting.\n",
        "- Ridge Regression\n",
        "  - Tìm ra model hồi quy có giá trị rMSE tốt nhất.\n",
        "  - Tìm model hồi quy có giá trị R2 tốt nhất.\n",
        "  - Load 2 model trên và tính toán hiệu năng.\n",
        "  - Dự đoán giá ICO.\n",
        "- Neural Network\n",
        "  - Tìm ra model NN có giá trị rMSE tốt nhất.\n",
        "  - Tìm model NN có giá trị R2 tốt nhất.\n",
        "  - Load 2 model trên và tính toán hiệu năng.\n",
        "  - Dự đoán giá ICO."
      ]
    },
    {
      "cell_type": "markdown",
      "metadata": {
        "id": "6gvb0IDv5pLb"
      },
      "source": [
        "### **CÁC THƯ VIỆN VÀ FUNCTION CẦN THIẾT.**"
      ]
    },
    {
      "cell_type": "markdown",
      "metadata": {
        "id": "O4JpLlog5pLc"
      },
      "source": [
        "### **CÁC THƯ VIỆN**"
      ]
    },
    {
      "cell_type": "code",
      "metadata": {
        "id": "RfOgGPFQ5pLd"
      },
      "source": [
        "%matplotlib inline\n",
        "import numpy as np\n",
        "import matplotlib.pyplot as plt\n",
        "from matplotlib import rc\n",
        "rc('font',**{'family':'sans-serif','sans-serif':['Helvetica']})\n",
        "rc('text', usetex=False)\n",
        "#plt.style.use('ggplot') style=\"ticks\",\n",
        "import pandas as pd\n",
        "from math import sqrt\n",
        "import seaborn as sns\n",
        "sns.set(style=\"ticks\", color_codes=True)\n",
        "#import plotly.graph_objects as go"
      ],
      "execution_count": 1,
      "outputs": []
    },
    {
      "cell_type": "code",
      "metadata": {
        "colab": {
          "base_uri": "https://localhost:8080/"
        },
        "id": "s-Of0iyO5pLk",
        "outputId": "3d2a4507-8cce-4fdf-9e45-b3c8e28fe905"
      },
      "source": [
        "from enum import Enum\n",
        "from sklearn.neural_network import MLPRegressor\n",
        "from sklearn.metrics import r2_score, mean_squared_error, mean_absolute_error\n",
        "from sklearn.model_selection import train_test_split\n",
        "from sklearn.preprocessing import StandardScaler\n",
        "from sklearn import linear_model\n",
        "import os\n",
        "from sklearn.preprocessing import OneHotEncoder\n",
        "from sklearn.externals import joblib\n",
        "from sklearn import decomposition, datasets\n",
        "from sklearn.pipeline import Pipeline\n",
        "from sklearn.model_selection import GridSearchCV\n",
        "from google.colab import files"
      ],
      "execution_count": 2,
      "outputs": [
        {
          "output_type": "stream",
          "text": [
            "/usr/local/lib/python3.7/dist-packages/sklearn/externals/joblib/__init__.py:15: FutureWarning: sklearn.externals.joblib is deprecated in 0.21 and will be removed in 0.23. Please import this functionality directly from joblib, which can be installed with: pip install joblib. If this warning is raised when loading pickled models, you may need to re-serialize those models with scikit-learn 0.21+.\n",
            "  warnings.warn(msg, category=FutureWarning)\n"
          ],
          "name": "stderr"
        }
      ]
    },
    {
      "cell_type": "markdown",
      "metadata": {
        "id": "5qKxhom55pLo"
      },
      "source": [
        "### **FUNCTION**"
      ]
    },
    {
      "cell_type": "code",
      "metadata": {
        "id": "PvUpEAGs9VnD"
      },
      "source": [
        "class LineaReggressionMetrics(Enum):\n",
        "    R_SQUARED = 1\n",
        "    ROOT_MEAN_SQUARED_ERROR = 2\n",
        "    MEAN_ABSOLUTE_ERROR = 3"
      ],
      "execution_count": 3,
      "outputs": []
    },
    {
      "cell_type": "code",
      "metadata": {
        "id": "0UABkjmoXH2G"
      },
      "source": [
        "class Solvers(Enum):\n",
        "    lbfgs = 1\n",
        "    sgd = 2\n",
        "    adam = 3"
      ],
      "execution_count": 4,
      "outputs": []
    },
    {
      "cell_type": "code",
      "metadata": {
        "id": "K87EmaPRiT8S"
      },
      "source": [
        "def load_Dataset1(dataset = './DATN/data_moi.csv'):\n",
        "    all_data = np.genfromtxt(fname=dataset, names=True, delimiter=',')\n",
        "    #Lấy hết toàn bộ header trong dataset trả về kiểu chuỗi    \n",
        "    featureNames = all_data.dtype.names[1:-1] \n",
        "    #Lấy hết toàn bộ tên của ico.\n",
        "    ico_names = np.genfromtxt(fname=dataset, delimiter=',',skip_header=1, usecols=0, dtype=str)\n",
        "    #Lấy hết toàn bộ giá trị trong dataset trừ header và tên ico\n",
        "    all_data = np.genfromtxt(fname=dataset, delimiter=',',skip_header=1)[:,1:]\n",
        "    #Lấy hết giá trị thuộc các thành phần output\n",
        "    x = np.genfromtxt(fname=dataset, delimiter=',',skip_header=1)[:,1:-1]\n",
        "    #Lấy hết giá trị output\n",
        "    y = np.genfromtxt(fname=dataset, delimiter=',',skip_header=1)[:,-1]\n",
        "    return (featureNames,x,y,ico_names)\n"
      ],
      "execution_count": 5,
      "outputs": []
    },
    {
      "cell_type": "code",
      "metadata": {
        "id": "jogz4EQa5pLp"
      },
      "source": [
        "def load_Dataset2(path = './DATN/data_moi.csv'):    \n",
        "    dataset = pd.read_csv(path)\n",
        "    x= dataset.iloc[:, 1:-1].values \n",
        "    data_com = dataset.iloc[:,1:14].values\n",
        "    print(data_com)\n",
        "    #Lấy giá trị cột cuối\n",
        "    y= dataset.iloc[:,13].values\n",
        "    icoNames = dataset.iloc[:,0]\n",
        "    featureNames = list(dataset.columns[1:-1])\n",
        "    return (featureNames, x, y, icoNames, data_com)"
      ],
      "execution_count": 6,
      "outputs": []
    },
    {
      "cell_type": "code",
      "metadata": {
        "id": "yYfc4Ohl5pLw"
      },
      "source": [
        "def createFolderIfDoesntExist(folderName):\n",
        "    exists = os.path.isdir(folderName)\n",
        "    if not exists:\n",
        "        os.makedirs(folderName)\n",
        "        \n",
        "    return exists"
      ],
      "execution_count": 7,
      "outputs": []
    },
    {
      "cell_type": "code",
      "metadata": {
        "id": "7rkbNeND4B_H"
      },
      "source": [
        "# Tải dataset từ Github\n",
        "def loadDataFromGithub(fileName='./DATN/data_moi.csv'):\n",
        "    exists = os.path.isfile(fileName)\n",
        "    if not exists:\n",
        "      !wget https://raw.githubusercontent.com/quangtrongtran/DATN/main/data_moi.csv -P \"./DATASET/\""
      ],
      "execution_count": 8,
      "outputs": []
    },
    {
      "cell_type": "code",
      "metadata": {
        "id": "D5LrPDgYhOd4"
      },
      "source": [
        "def loadModel(fileName):\n",
        "    exists = os.path.isfile(fileName)\n",
        "    if exists:    \n",
        "        # Tải model nếu nó tồn tại\n",
        "        return joblib.load(fileName)\n",
        "    else:\n",
        "        return None"
      ],
      "execution_count": 9,
      "outputs": []
    },
    {
      "cell_type": "code",
      "metadata": {
        "id": "9ZxucWgYjBJ6"
      },
      "source": [
        "def createResultsFolderIfDoesntExist(folder):\n",
        "    folderExists = createFolderIfDoesntExist(folder)\n",
        "    if not folderExists:\n",
        "      #download best models from github \n",
        "      !wget https://raw.githubusercontent.com/daominhthuan42/ICO_FINAL/master/BEST_MODEL/bestRegressionModel_Ridge_ROOT_MEAN_SQUARED_ERROR.sav -P \"./RESULT/\"\n",
        "      !wget https://raw.githubusercontent.com/daominhthuan42/ICO_FINAL/master/BEST_MODEL/bestRegressionModel_Ridge_R_SQUARED.sav -P \"./RESULT/\"\n",
        "      !wget https://raw.githubusercontent.com/daominhthuan42/ICO_FINAL/master/BEST_MODEL/bestRegressionModel_Ridge_MEAN_ABSOLUTE_ERROR.sav -P \"./RESULT/\"\n",
        "      !wget https://raw.githubusercontent.com/daominhthuan42/ICO_FINAL/master/BEST_MODEL/bestNNModel_MEAN_ABSOLUTE_ERRORsgd.sav -P \"./RESULT/\"\n",
        "      !wget https://raw.githubusercontent.com/daominhthuan42/ICO_FINAL/master/BEST_MODEL/bestNNModel_ROOT_MEAN_SQUARED_ERRORsgd.sav -P \"./RESULT/\"\n",
        "      !wget https://raw.githubusercontent.com/daominhthuan42/ICO_FINAL/master/BEST_MODEL/bestNNModel_R_SQUAREDsgd.sav -P \"./RESULT/\"       "
      ],
      "execution_count": 10,
      "outputs": []
    },
    {
      "cell_type": "code",
      "metadata": {
        "id": "Mez7QPsSEOYB"
      },
      "source": [
        "\"\"\"\n",
        "HÀM NÀY LÀ SẼ IN RA PLOT MONG MUỐN VÀ PLOT DỰ ĐOÁN\n",
        "\"\"\"\n",
        "def plotExpectedVsPredictedOutput(y_test, y_pred, fileName='', saveToFile=False):\n",
        "    fig, ax = plt.subplots(figsize=(10,10))\n",
        "    ax.scatter(y_test, y_pred, c = \"blue\", label = \"y_pred\")\n",
        "    ax.plot([y_pred.min(), y_pred.max()], [y_pred.min(), y_pred.max()], 'k--', lw=2)\n",
        "    ax.set_xlabel('Measured')\n",
        "    ax.set_ylabel('Predicted')\n",
        "    ax.legend(loc=\"upper left\")\n",
        "    plt.xlim(-10, 10)\n",
        "    plt.ylim(-10, 10)\n",
        "    plt.title(fileName)\n",
        "    if(saveToFile == True):\n",
        "        createFolderIfDoesntExist(\"IMAGE_RESULT/\")\n",
        "        plt.savefig('IMAGE_RESULT/'+fileName+\".png\", dpi = 300)\n",
        "    else: \n",
        "        plt.show()"
      ],
      "execution_count": 11,
      "outputs": []
    },
    {
      "cell_type": "code",
      "metadata": {
        "id": "q0_6PeQX_FF0"
      },
      "source": [
        "\"\"\"\n",
        "HÀM NÀY LÀ SẼ IN RA PLOT MONG MUỐN VÀ PLOT DỰ ĐOÁN\n",
        "\"\"\"\n",
        "def plotExpectedVsPredictedOutput2(y_test, y_pred, fileName='', saveToFile = True):\n",
        "    plt.subplots(figsize=(6,6))    \n",
        "    plt.xlabel('y_pred')\n",
        "    plt.ylabel('y_test_holdout')   \n",
        "    sns.regplot(y_pred, y_test)    \n",
        "    plt.title(fileName)\n",
        "    if(saveToFile == True):\n",
        "        createFolderIfDoesntExist(\"IMAGE_RESULT/\")\n",
        "        plt.savefig('IMAGE_RESULT/'+fileName+\".png\", dpi = 300)    \n",
        "    plt.show()"
      ],
      "execution_count": 12,
      "outputs": []
    },
    {
      "cell_type": "code",
      "metadata": {
        "id": "1s0ztOj9RthI"
      },
      "source": [
        "def line_plot(line1, line2, label1= 'actual', label2= 'prediction', title='', lw=2, saveToFile = True):\n",
        "    fig, ax = plt.subplots(1, figsize=(13, 7))\n",
        "    ax.plot(line1,'-o',  color='darkorange', label=label1, linewidth=lw)\n",
        "    ax.plot(line2, '-s', color='navy', label=label2, linewidth=lw)   \n",
        "    ax.set_title(title, fontsize=16)\n",
        "    ax.legend(loc='best', fontsize=16)\n",
        "    if(saveToFile == True):\n",
        "        createFolderIfDoesntExist(\"IMAGE_LINE_PLOT/\")\n",
        "        plt.savefig('IMAGE_LINE_PLOT/'+title+\".png\", dpi = 500)\n",
        "    plt.show()"
      ],
      "execution_count": 13,
      "outputs": []
    },
    {
      "cell_type": "code",
      "metadata": {
        "id": "952e1gDjTHGX"
      },
      "source": [
        "def line_plot2(line, lw = 2, saveToFile= True, title='', label1=''):\n",
        "    fig, ax = plt.subplots(1, figsize=(12, 8))\n",
        "    ax.plot(line,  color='darkorange', label=label1, linewidth=lw)    \n",
        "    ax.set_title(title, fontsize=16)\n",
        "    ax.legend(loc='best', fontsize=16)\n",
        "    if(saveToFile == True):\n",
        "        createFolderIfDoesntExist(\"OPTIMIZE/\")\n",
        "        plt.savefig('OPTIMIZE/'+title+\".png\", dpi = 300)\n",
        "    plt.show()"
      ],
      "execution_count": 14,
      "outputs": []
    },
    {
      "cell_type": "code",
      "metadata": {
        "id": "MzFX-7_uQ5ud"
      },
      "source": [
        "def plotResult(y_test_hodlout, y_pred_rMSE, y_pred_R2, y_pred_MAE, saveToFile = True, rMSE = '', R2= '', MAE = ''):\n",
        "  f, ax = plt.subplots(figsize=(10, 7), nrows=3)  \n",
        "  f.tight_layout()\n",
        "  ax[0].plot(y_pred_rMSE, '-s', color='navy', label='Predicted Values', linewidth = 1);\n",
        "  ax[0].plot(y_test_hodlout, '-o', color='darkorange', label='Actual Values', linewidth = 1);\n",
        "  ax[0].set_title(\"Predicted vs Actuals Using Best model rMSE: \" + rMSE)\n",
        "  ax[0].legend(loc='best')\n",
        "\n",
        "  ax[1].plot(y_pred_R2, '-s', color='navy', label='Predicted Values', linewidth = 1);\n",
        "  ax[1].plot(y_test_hodlout, '-o', color='darkorange', label='Actual Values', linewidth = 1);\n",
        "  ax[1].set_title(\"Predicted vs Actuals Using Best model R2: \"+R2)\n",
        "  ax[1].legend(loc='best')\n",
        "\n",
        "  ax[2].plot(y_pred_MAE, '-s', color='navy', label='Predicted Values', linewidth = 1);\n",
        "  ax[2].plot(y_test_hodlout, '-o', color='darkorange', label='Actual Values', linewidth = 1);\n",
        "  ax[2].set_title(\"Predicted vs Actuals Using Best model MAE: \"+ MAE)\n",
        "  ax[2].legend(loc='best')\n",
        "  if(saveToFile == True):\n",
        "      createFolderIfDoesntExist(\"LINE_PLOT_3/\")\n",
        "      plt.savefig('LINE_PLOT_3/'+\"PLOT_RESULT\"+\".png\", dpi = 300)"
      ],
      "execution_count": 15,
      "outputs": []
    },
    {
      "cell_type": "code",
      "metadata": {
        "id": "eS7p9xed39Jj"
      },
      "source": [
        "def plotResult2(y_test_hodlout, y_pred_Ridge_rMSE, y_pred_Ridge_R2, y_pred_Ridge_MAE, y_pred_NN_rMSE, \n",
        "                y_pred_NN_R2, y_pred_NN_MAE, saveToFile = True, solver = Solvers.lbfgs):\n",
        "  f, ax = plt.subplots(figsize=(15, 10), nrows=6)   \n",
        "  f.tight_layout()\n",
        "  ax[0].plot(range(len(y_pred_Ridge_rMSE)), y_pred_Ridge_rMSE, '-s', color='navy', label='Predicted Values', linewidth = 1);\n",
        "  ax[0].plot(range(len(y_pred_Ridge_rMSE)), y_test_hodlout, '-o', color='darkorange', label='Actual Values', linewidth = 1);\n",
        "  ax[0].set_title(\"Predicted vs Actuals Using Best model rMSE Ridge\")\n",
        "  ax[0].legend(loc='best')\n",
        "\n",
        "  ax[1].plot(range(len(y_pred_Ridge_R2)), y_pred_Ridge_R2, '-s', color='navy', label='Predicted Values', linewidth = 1);\n",
        "  ax[1].plot(range(len(y_pred_Ridge_R2)), y_test_hodlout, '-o', color='darkorange', label='Actual Values', linewidth = 1);\n",
        "  ax[1].set_title(\"Predicted vs Actuals Using Best model R2 Ridge\")\n",
        "  ax[1].legend(loc='best')\n",
        "\n",
        "  ax[2].plot(range(len(y_pred_Ridge_MAE)), y_pred_Ridge_MAE, '-s', color='navy', label='Predicted Values', linewidth = 1);\n",
        "  ax[2].plot(range(len(y_pred_Ridge_MAE)), y_test_hodlout, '-o', color='darkorange', label='Actual Values', linewidth = 1);\n",
        "  ax[2].set_title(\"Predicted vs Actuals Using Best model MAE Ridge\")\n",
        "  ax[2].legend(loc='best')\n",
        "\n",
        "  ax[3].plot(range(len(y_pred_NN_rMSE)), y_pred_NN_rMSE, '-s', color='navy', label='Predicted Values', linewidth = 1);\n",
        "  ax[3].plot(range(len(y_pred_NN_rMSE)), y_test_hodlout, '-o', color='darkorange', label='Actual Values', linewidth = 1);\n",
        "  ax[3].set_title(\"Predicted vs Actuals Using Best model rMSE NN \" + str(solver.name))\n",
        "  ax[3].legend(loc='best')\n",
        "\n",
        "  ax[4].plot(range(len(y_pred_NN_R2)), y_pred_NN_R2, '-s', color='navy', label='Predicted Values', linewidth = 1);\n",
        "  ax[4].plot(range(len(y_pred_NN_R2)), y_test_hodlout, '-o', color='darkorange', label='Actual Values', linewidth = 1);\n",
        "  ax[4].set_title(\"Predicted vs Actuals Using Best model R2 NN \" + str(solver.name))\n",
        "  ax[4].legend(loc='best')\n",
        "\n",
        "  ax[5].plot(range(len(y_pred_NN_MAE)), y_pred_NN_MAE, '-s', color='navy', label='Predicted Values', linewidth = 1);\n",
        "  ax[5].plot(range(len(y_pred_NN_MAE)), y_test_hodlout, '-o', color='darkorange', label='Actual Values', linewidth = 1);\n",
        "  ax[5].set_title(\"Predicted vs Actuals Using Best model MAE NN \" + str(solver.name))\n",
        "  ax[5].legend(loc='best')  \n",
        "  if(saveToFile == True):\n",
        "      createFolderIfDoesntExist(\"LINE_PLOT_6/\")\n",
        "      plt.savefig('LINE_PLOT_6/'+\"PLOT_RESULT\"+\".png\", dpi = 300)"
      ],
      "execution_count": 16,
      "outputs": []
    },
    {
      "cell_type": "code",
      "metadata": {
        "id": "S7z2Rorto6Bx"
      },
      "source": [
        "def plotPredicted(rMSE, R2, MAE):\n",
        "  plt.figure(figsize=(10, 5))\n",
        "  ax1 = plt.subplot(311, title ='Price ICO 0x, modum and crypto20 using best model rMSE')\n",
        "  ax1.hist(rMSE)\n",
        "  ax2 = plt.subplot(312,sharex=ax1, title ='Price ICO 0x, modum and crypto20 using best model R2')\n",
        "  ax2.hist(R2)\n",
        "  ax3 = plt.subplot(313,sharex=ax1, title ='Price ICO 0x, modum and crypto20 using best model MAE')\n",
        "  ax3.hist(MAE)\n",
        "  plt.tight_layout()"
      ],
      "execution_count": 17,
      "outputs": []
    },
    {
      "cell_type": "code",
      "metadata": {
        "id": "5P2RehLjhVxq"
      },
      "source": [
        "def printPlotCoef(feauteNames, model):\n",
        "    d = model.coef_[0:12]\n",
        "    print(\"Hệ số: \", d)\n",
        "    print(\"Input: \", feauteNames) \n",
        "    data = { feauteNames[0]: d[0], feauteNames[1]: d[1], feauteNames[2]: d[2], feauteNames[3]: d[3], feauteNames[4]: d[4], feauteNames[5]: d[5], feauteNames[6]: d[6],\n",
        "            feauteNames[7]: d[7], feauteNames[8]: d[8], feauteNames[9]: d[9], feauteNames[10]: d[10], feauteNames[11]: d[11]}  \n",
        "    coef = pd.Series(data)\n",
        "    plt.figure(figsize=(10, 5))\n",
        "    plt.xlim(-1, 1)\n",
        "    plt.ylim(-1, 1)\n",
        "    coef.head(12).plot(kind='bar')\n",
        "    plt.title('Feature Significance')\n",
        "    plt.tight_layout()    "
      ],
      "execution_count": 18,
      "outputs": []
    },
    {
      "cell_type": "code",
      "metadata": {
        "id": "84myX3nwFHZM"
      },
      "source": [
        "\"\"\"\n",
        "HÀM TÍNH TOÁN DỰ ĐOÁN KẾT QUẢ\n",
        "\"\"\"        \n",
        "def makePrediction(model,example_to_predict):\n",
        "    encoded_x, encodedCategoryArray = encodeSingleElement(x,example_to_predict)\n",
        "    y_pred = model.predict(encoded_x.reshape(1, -1))\n",
        "    \n",
        "    return y_pred"
      ],
      "execution_count": 19,
      "outputs": []
    },
    {
      "cell_type": "code",
      "metadata": {
        "id": "53U1cpjZ5pL1"
      },
      "source": [
        "\"\"\"\n",
        "HÀM TÍNH TOÁN RA HỆ SỐ TƯƠNG QUAN GIỮA CÁC BIẾN VÀ SỬ DỤNG BIỂU ĐỒ\n",
        "PHÂN TÁN ĐỂ THỂ HIỆN SỰ TUYẾN TÍNH GIỮA 2 BIẾN.\n",
        "\"\"\"\n",
        "def getCovarianceMatrixAndPrintScatterPlot(x, y, saveToFile=True):\n",
        "    nrows = x.shape[0] #trả về sô hàng\n",
        "    ncols = x.shape[1] # trả về số vột \n",
        "\n",
        "    for i in np.arange(ncols):\n",
        "        corCoef = np.corrcoef(x[:,i], y) \n",
        "        plt.xlabel(featureNames[i])\n",
        "        plt.ylabel(\"Price after 6 months ($) \")\n",
        "        plt.suptitle('Scatter Plot of feature {:s} vs Price after 6 months'.format(featureNames[i]))\n",
        "        corr = \"Correlation Coefficient: \"+str(corCoef[0,1])\n",
        "        plt.title(corr)\n",
        "        plt.scatter(x[:,i], y)\n",
        "        if(saveToFile == True):\n",
        "            exist= createFolderIfDoesntExist(\"IMAGE_SCATTER/\")\n",
        "            plt.savefig('IMAGE_SCATTER/{:s}_vs_Price_scatter_plot.png'.format(featureNames[i]), dpi = 300)                    \n",
        "            plt.show()\n",
        "        \n",
        "        plt.clf() "
      ],
      "execution_count": 20,
      "outputs": []
    },
    {
      "cell_type": "markdown",
      "metadata": {
        "id": "uHEiphP5igE4"
      },
      "source": [
        "### **TẠO CÁC FOLDER CẦN THIẾT**"
      ]
    },
    {
      "cell_type": "markdown",
      "metadata": {
        "id": "HXJh-kMxHy4f"
      },
      "source": [
        "TẠO FOLDER RESULT, TRONG FOLDER NÀY SẼ CHỨA CÁC MODEL "
      ]
    },
    {
      "cell_type": "code",
      "metadata": {
        "colab": {
          "base_uri": "https://localhost:8080/"
        },
        "id": "B9AOLXWDirZI",
        "outputId": "99271e60-14a8-460d-cc7a-7f606023b7cc"
      },
      "source": [
        "createResultsFolderIfDoesntExist(\"RESULT/\")"
      ],
      "execution_count": 21,
      "outputs": [
        {
          "output_type": "stream",
          "text": [
            "--2021-05-31 01:48:57--  https://raw.githubusercontent.com/daominhthuan42/ICO_FINAL/master/BEST_MODEL/bestRegressionModel_Ridge_ROOT_MEAN_SQUARED_ERROR.sav\n",
            "Resolving raw.githubusercontent.com (raw.githubusercontent.com)... 185.199.108.133, 185.199.109.133, 185.199.110.133, ...\n",
            "Connecting to raw.githubusercontent.com (raw.githubusercontent.com)|185.199.108.133|:443... connected.\n",
            "HTTP request sent, awaiting response... 200 OK\n",
            "Length: 1655 (1.6K) [application/octet-stream]\n",
            "Saving to: ‘./RESULT/bestRegressionModel_Ridge_ROOT_MEAN_SQUARED_ERROR.sav’\n",
            "\n",
            "\r          bestRegre   0%[                    ]       0  --.-KB/s               \rbestRegressionModel 100%[===================>]   1.62K  --.-KB/s    in 0s      \n",
            "\n",
            "2021-05-31 01:48:57 (31.1 MB/s) - ‘./RESULT/bestRegressionModel_Ridge_ROOT_MEAN_SQUARED_ERROR.sav’ saved [1655/1655]\n",
            "\n",
            "--2021-05-31 01:48:57--  https://raw.githubusercontent.com/daominhthuan42/ICO_FINAL/master/BEST_MODEL/bestRegressionModel_Ridge_R_SQUARED.sav\n",
            "Resolving raw.githubusercontent.com (raw.githubusercontent.com)... 185.199.108.133, 185.199.109.133, 185.199.110.133, ...\n",
            "Connecting to raw.githubusercontent.com (raw.githubusercontent.com)|185.199.108.133|:443... connected.\n",
            "HTTP request sent, awaiting response... 200 OK\n",
            "Length: 1655 (1.6K) [application/octet-stream]\n",
            "Saving to: ‘./RESULT/bestRegressionModel_Ridge_R_SQUARED.sav’\n",
            "\n",
            "bestRegressionModel 100%[===================>]   1.62K  --.-KB/s    in 0s      \n",
            "\n",
            "2021-05-31 01:48:57 (37.4 MB/s) - ‘./RESULT/bestRegressionModel_Ridge_R_SQUARED.sav’ saved [1655/1655]\n",
            "\n",
            "--2021-05-31 01:48:57--  https://raw.githubusercontent.com/daominhthuan42/ICO_FINAL/master/BEST_MODEL/bestRegressionModel_Ridge_MEAN_ABSOLUTE_ERROR.sav\n",
            "Resolving raw.githubusercontent.com (raw.githubusercontent.com)... 185.199.108.133, 185.199.110.133, 185.199.111.133, ...\n",
            "Connecting to raw.githubusercontent.com (raw.githubusercontent.com)|185.199.108.133|:443... connected.\n",
            "HTTP request sent, awaiting response... 200 OK\n",
            "Length: 1655 (1.6K) [application/octet-stream]\n",
            "Saving to: ‘./RESULT/bestRegressionModel_Ridge_MEAN_ABSOLUTE_ERROR.sav’\n",
            "\n",
            "bestRegressionModel 100%[===================>]   1.62K  --.-KB/s    in 0s      \n",
            "\n",
            "2021-05-31 01:48:58 (32.7 MB/s) - ‘./RESULT/bestRegressionModel_Ridge_MEAN_ABSOLUTE_ERROR.sav’ saved [1655/1655]\n",
            "\n",
            "--2021-05-31 01:48:58--  https://raw.githubusercontent.com/daominhthuan42/ICO_FINAL/master/BEST_MODEL/bestNNModel_MEAN_ABSOLUTE_ERRORsgd.sav\n",
            "Resolving raw.githubusercontent.com (raw.githubusercontent.com)... 185.199.108.133, 185.199.109.133, 185.199.110.133, ...\n",
            "Connecting to raw.githubusercontent.com (raw.githubusercontent.com)|185.199.108.133|:443... connected.\n",
            "HTTP request sent, awaiting response... 200 OK\n",
            "Length: 818451 (799K) [application/octet-stream]\n",
            "Saving to: ‘./RESULT/bestNNModel_MEAN_ABSOLUTE_ERRORsgd.sav’\n",
            "\n",
            "bestNNModel_MEAN_AB 100%[===================>] 799.27K  --.-KB/s    in 0.03s   \n",
            "\n",
            "2021-05-31 01:48:58 (23.1 MB/s) - ‘./RESULT/bestNNModel_MEAN_ABSOLUTE_ERRORsgd.sav’ saved [818451/818451]\n",
            "\n",
            "--2021-05-31 01:48:58--  https://raw.githubusercontent.com/daominhthuan42/ICO_FINAL/master/BEST_MODEL/bestNNModel_ROOT_MEAN_SQUARED_ERRORsgd.sav\n",
            "Resolving raw.githubusercontent.com (raw.githubusercontent.com)... 185.199.108.133, 185.199.110.133, 185.199.111.133, ...\n",
            "Connecting to raw.githubusercontent.com (raw.githubusercontent.com)|185.199.108.133|:443... connected.\n",
            "HTTP request sent, awaiting response... 200 OK\n",
            "Length: 2580620 (2.5M) [application/octet-stream]\n",
            "Saving to: ‘./RESULT/bestNNModel_ROOT_MEAN_SQUARED_ERRORsgd.sav’\n",
            "\n",
            "bestNNModel_ROOT_ME 100%[===================>]   2.46M  --.-KB/s    in 0.07s   \n",
            "\n",
            "2021-05-31 01:48:59 (35.2 MB/s) - ‘./RESULT/bestNNModel_ROOT_MEAN_SQUARED_ERRORsgd.sav’ saved [2580620/2580620]\n",
            "\n",
            "--2021-05-31 01:48:59--  https://raw.githubusercontent.com/daominhthuan42/ICO_FINAL/master/BEST_MODEL/bestNNModel_R_SQUAREDsgd.sav\n",
            "Resolving raw.githubusercontent.com (raw.githubusercontent.com)... 185.199.108.133, 185.199.109.133, 185.199.110.133, ...\n",
            "Connecting to raw.githubusercontent.com (raw.githubusercontent.com)|185.199.108.133|:443... connected.\n",
            "HTTP request sent, awaiting response... 200 OK\n",
            "Length: 5298837 (5.1M) [application/octet-stream]\n",
            "Saving to: ‘./RESULT/bestNNModel_R_SQUAREDsgd.sav’\n",
            "\n",
            "bestNNModel_R_SQUAR 100%[===================>]   5.05M  30.3MB/s    in 0.2s    \n",
            "\n",
            "2021-05-31 01:48:59 (30.3 MB/s) - ‘./RESULT/bestNNModel_R_SQUAREDsgd.sav’ saved [5298837/5298837]\n",
            "\n"
          ],
          "name": "stdout"
        }
      ]
    },
    {
      "cell_type": "code",
      "metadata": {
        "id": "umLHDaXisUS3"
      },
      "source": [
        "#from google.colab import drive\n",
        "#drive.mount('/content/drive')"
      ],
      "execution_count": 22,
      "outputs": []
    },
    {
      "cell_type": "markdown",
      "metadata": {
        "id": "8M3rS88mIJWN"
      },
      "source": [
        "TẢI DATASET VỀ TỪ GITHUB"
      ]
    },
    {
      "cell_type": "code",
      "metadata": {
        "colab": {
          "base_uri": "https://localhost:8080/"
        },
        "id": "ZIjQ36sgoofT",
        "outputId": "117e8648-921b-41d2-f11b-1c94e1b9579e"
      },
      "source": [
        "loadDataFromGithub()"
      ],
      "execution_count": 23,
      "outputs": [
        {
          "output_type": "stream",
          "text": [
            "--2021-05-31 01:48:59--  https://raw.githubusercontent.com/quangtrongtran/DATN/main/data_moi.csv\n",
            "Resolving raw.githubusercontent.com (raw.githubusercontent.com)... 185.199.108.133, 185.199.109.133, 185.199.110.133, ...\n",
            "Connecting to raw.githubusercontent.com (raw.githubusercontent.com)|185.199.108.133|:443... connected.\n",
            "HTTP request sent, awaiting response... 200 OK\n",
            "Length: 11001 (11K) [text/plain]\n",
            "Saving to: ‘./DATASET/data_moi.csv’\n",
            "\n",
            "data_moi.csv        100%[===================>]  10.74K  --.-KB/s    in 0s      \n",
            "\n",
            "2021-05-31 01:49:00 (113 MB/s) - ‘./DATASET/data_moi.csv’ saved [11001/11001]\n",
            "\n"
          ],
          "name": "stdout"
        }
      ]
    },
    {
      "cell_type": "markdown",
      "metadata": {
        "id": "s6p3SWor5pL5"
      },
      "source": [
        "### **LOADING ICO DATASET VÀO TRONG BIẾN**"
      ]
    },
    {
      "cell_type": "code",
      "metadata": {
        "colab": {
          "base_uri": "https://localhost:8080/",
          "height": 374
        },
        "id": "lq_QSnQz_OZE",
        "outputId": "6a8bfb33-4405-4d88-9634-5e02208f47a9"
      },
      "source": [
        "(featureNames, x, y, icoNames, data_com) = load_Dataset2()"
      ],
      "execution_count": 24,
      "outputs": [
        {
          "output_type": "error",
          "ename": "FileNotFoundError",
          "evalue": "ignored",
          "traceback": [
            "\u001b[0;31m---------------------------------------------------------------------------\u001b[0m",
            "\u001b[0;31mFileNotFoundError\u001b[0m                         Traceback (most recent call last)",
            "\u001b[0;32m<ipython-input-24-fee8c2ed48c9>\u001b[0m in \u001b[0;36m<module>\u001b[0;34m()\u001b[0m\n\u001b[0;32m----> 1\u001b[0;31m \u001b[0;34m(\u001b[0m\u001b[0mfeatureNames\u001b[0m\u001b[0;34m,\u001b[0m \u001b[0mx\u001b[0m\u001b[0;34m,\u001b[0m \u001b[0my\u001b[0m\u001b[0;34m,\u001b[0m \u001b[0micoNames\u001b[0m\u001b[0;34m,\u001b[0m \u001b[0mdata_com\u001b[0m\u001b[0;34m)\u001b[0m \u001b[0;34m=\u001b[0m \u001b[0mload_Dataset2\u001b[0m\u001b[0;34m(\u001b[0m\u001b[0;34m)\u001b[0m\u001b[0;34m\u001b[0m\u001b[0;34m\u001b[0m\u001b[0m\n\u001b[0m",
            "\u001b[0;32m<ipython-input-6-edea3458164b>\u001b[0m in \u001b[0;36mload_Dataset2\u001b[0;34m(path)\u001b[0m\n\u001b[1;32m      1\u001b[0m \u001b[0;32mdef\u001b[0m \u001b[0mload_Dataset2\u001b[0m\u001b[0;34m(\u001b[0m\u001b[0mpath\u001b[0m \u001b[0;34m=\u001b[0m \u001b[0;34m'./DATN/data_moi.csv'\u001b[0m\u001b[0;34m)\u001b[0m\u001b[0;34m:\u001b[0m\u001b[0;34m\u001b[0m\u001b[0;34m\u001b[0m\u001b[0m\n\u001b[0;32m----> 2\u001b[0;31m     \u001b[0mdataset\u001b[0m \u001b[0;34m=\u001b[0m \u001b[0mpd\u001b[0m\u001b[0;34m.\u001b[0m\u001b[0mread_csv\u001b[0m\u001b[0;34m(\u001b[0m\u001b[0mpath\u001b[0m\u001b[0;34m)\u001b[0m\u001b[0;34m\u001b[0m\u001b[0;34m\u001b[0m\u001b[0m\n\u001b[0m\u001b[1;32m      3\u001b[0m     \u001b[0mx\u001b[0m\u001b[0;34m=\u001b[0m \u001b[0mdataset\u001b[0m\u001b[0;34m.\u001b[0m\u001b[0miloc\u001b[0m\u001b[0;34m[\u001b[0m\u001b[0;34m:\u001b[0m\u001b[0;34m,\u001b[0m \u001b[0;36m1\u001b[0m\u001b[0;34m:\u001b[0m\u001b[0;34m-\u001b[0m\u001b[0;36m1\u001b[0m\u001b[0;34m]\u001b[0m\u001b[0;34m.\u001b[0m\u001b[0mvalues\u001b[0m\u001b[0;34m\u001b[0m\u001b[0;34m\u001b[0m\u001b[0m\n\u001b[1;32m      4\u001b[0m     \u001b[0mdata_com\u001b[0m \u001b[0;34m=\u001b[0m \u001b[0mdataset\u001b[0m\u001b[0;34m.\u001b[0m\u001b[0miloc\u001b[0m\u001b[0;34m[\u001b[0m\u001b[0;34m:\u001b[0m\u001b[0;34m,\u001b[0m\u001b[0;36m1\u001b[0m\u001b[0;34m:\u001b[0m\u001b[0;36m14\u001b[0m\u001b[0;34m]\u001b[0m\u001b[0;34m.\u001b[0m\u001b[0mvalues\u001b[0m\u001b[0;34m\u001b[0m\u001b[0;34m\u001b[0m\u001b[0m\n\u001b[1;32m      5\u001b[0m     \u001b[0mprint\u001b[0m\u001b[0;34m(\u001b[0m\u001b[0mdata_com\u001b[0m\u001b[0;34m)\u001b[0m\u001b[0;34m\u001b[0m\u001b[0;34m\u001b[0m\u001b[0m\n",
            "\u001b[0;32m/usr/local/lib/python3.7/dist-packages/pandas/io/parsers.py\u001b[0m in \u001b[0;36mread_csv\u001b[0;34m(filepath_or_buffer, sep, delimiter, header, names, index_col, usecols, squeeze, prefix, mangle_dupe_cols, dtype, engine, converters, true_values, false_values, skipinitialspace, skiprows, skipfooter, nrows, na_values, keep_default_na, na_filter, verbose, skip_blank_lines, parse_dates, infer_datetime_format, keep_date_col, date_parser, dayfirst, cache_dates, iterator, chunksize, compression, thousands, decimal, lineterminator, quotechar, quoting, doublequote, escapechar, comment, encoding, dialect, error_bad_lines, warn_bad_lines, delim_whitespace, low_memory, memory_map, float_precision)\u001b[0m\n\u001b[1;32m    686\u001b[0m     )\n\u001b[1;32m    687\u001b[0m \u001b[0;34m\u001b[0m\u001b[0m\n\u001b[0;32m--> 688\u001b[0;31m     \u001b[0;32mreturn\u001b[0m \u001b[0m_read\u001b[0m\u001b[0;34m(\u001b[0m\u001b[0mfilepath_or_buffer\u001b[0m\u001b[0;34m,\u001b[0m \u001b[0mkwds\u001b[0m\u001b[0;34m)\u001b[0m\u001b[0;34m\u001b[0m\u001b[0;34m\u001b[0m\u001b[0m\n\u001b[0m\u001b[1;32m    689\u001b[0m \u001b[0;34m\u001b[0m\u001b[0m\n\u001b[1;32m    690\u001b[0m \u001b[0;34m\u001b[0m\u001b[0m\n",
            "\u001b[0;32m/usr/local/lib/python3.7/dist-packages/pandas/io/parsers.py\u001b[0m in \u001b[0;36m_read\u001b[0;34m(filepath_or_buffer, kwds)\u001b[0m\n\u001b[1;32m    452\u001b[0m \u001b[0;34m\u001b[0m\u001b[0m\n\u001b[1;32m    453\u001b[0m     \u001b[0;31m# Create the parser.\u001b[0m\u001b[0;34m\u001b[0m\u001b[0;34m\u001b[0m\u001b[0;34m\u001b[0m\u001b[0m\n\u001b[0;32m--> 454\u001b[0;31m     \u001b[0mparser\u001b[0m \u001b[0;34m=\u001b[0m \u001b[0mTextFileReader\u001b[0m\u001b[0;34m(\u001b[0m\u001b[0mfp_or_buf\u001b[0m\u001b[0;34m,\u001b[0m \u001b[0;34m**\u001b[0m\u001b[0mkwds\u001b[0m\u001b[0;34m)\u001b[0m\u001b[0;34m\u001b[0m\u001b[0;34m\u001b[0m\u001b[0m\n\u001b[0m\u001b[1;32m    455\u001b[0m \u001b[0;34m\u001b[0m\u001b[0m\n\u001b[1;32m    456\u001b[0m     \u001b[0;32mif\u001b[0m \u001b[0mchunksize\u001b[0m \u001b[0;32mor\u001b[0m \u001b[0miterator\u001b[0m\u001b[0;34m:\u001b[0m\u001b[0;34m\u001b[0m\u001b[0;34m\u001b[0m\u001b[0m\n",
            "\u001b[0;32m/usr/local/lib/python3.7/dist-packages/pandas/io/parsers.py\u001b[0m in \u001b[0;36m__init__\u001b[0;34m(self, f, engine, **kwds)\u001b[0m\n\u001b[1;32m    946\u001b[0m             \u001b[0mself\u001b[0m\u001b[0;34m.\u001b[0m\u001b[0moptions\u001b[0m\u001b[0;34m[\u001b[0m\u001b[0;34m\"has_index_names\"\u001b[0m\u001b[0;34m]\u001b[0m \u001b[0;34m=\u001b[0m \u001b[0mkwds\u001b[0m\u001b[0;34m[\u001b[0m\u001b[0;34m\"has_index_names\"\u001b[0m\u001b[0;34m]\u001b[0m\u001b[0;34m\u001b[0m\u001b[0;34m\u001b[0m\u001b[0m\n\u001b[1;32m    947\u001b[0m \u001b[0;34m\u001b[0m\u001b[0m\n\u001b[0;32m--> 948\u001b[0;31m         \u001b[0mself\u001b[0m\u001b[0;34m.\u001b[0m\u001b[0m_make_engine\u001b[0m\u001b[0;34m(\u001b[0m\u001b[0mself\u001b[0m\u001b[0;34m.\u001b[0m\u001b[0mengine\u001b[0m\u001b[0;34m)\u001b[0m\u001b[0;34m\u001b[0m\u001b[0;34m\u001b[0m\u001b[0m\n\u001b[0m\u001b[1;32m    949\u001b[0m \u001b[0;34m\u001b[0m\u001b[0m\n\u001b[1;32m    950\u001b[0m     \u001b[0;32mdef\u001b[0m \u001b[0mclose\u001b[0m\u001b[0;34m(\u001b[0m\u001b[0mself\u001b[0m\u001b[0;34m)\u001b[0m\u001b[0;34m:\u001b[0m\u001b[0;34m\u001b[0m\u001b[0;34m\u001b[0m\u001b[0m\n",
            "\u001b[0;32m/usr/local/lib/python3.7/dist-packages/pandas/io/parsers.py\u001b[0m in \u001b[0;36m_make_engine\u001b[0;34m(self, engine)\u001b[0m\n\u001b[1;32m   1178\u001b[0m     \u001b[0;32mdef\u001b[0m \u001b[0m_make_engine\u001b[0m\u001b[0;34m(\u001b[0m\u001b[0mself\u001b[0m\u001b[0;34m,\u001b[0m \u001b[0mengine\u001b[0m\u001b[0;34m=\u001b[0m\u001b[0;34m\"c\"\u001b[0m\u001b[0;34m)\u001b[0m\u001b[0;34m:\u001b[0m\u001b[0;34m\u001b[0m\u001b[0;34m\u001b[0m\u001b[0m\n\u001b[1;32m   1179\u001b[0m         \u001b[0;32mif\u001b[0m \u001b[0mengine\u001b[0m \u001b[0;34m==\u001b[0m \u001b[0;34m\"c\"\u001b[0m\u001b[0;34m:\u001b[0m\u001b[0;34m\u001b[0m\u001b[0;34m\u001b[0m\u001b[0m\n\u001b[0;32m-> 1180\u001b[0;31m             \u001b[0mself\u001b[0m\u001b[0;34m.\u001b[0m\u001b[0m_engine\u001b[0m \u001b[0;34m=\u001b[0m \u001b[0mCParserWrapper\u001b[0m\u001b[0;34m(\u001b[0m\u001b[0mself\u001b[0m\u001b[0;34m.\u001b[0m\u001b[0mf\u001b[0m\u001b[0;34m,\u001b[0m \u001b[0;34m**\u001b[0m\u001b[0mself\u001b[0m\u001b[0;34m.\u001b[0m\u001b[0moptions\u001b[0m\u001b[0;34m)\u001b[0m\u001b[0;34m\u001b[0m\u001b[0;34m\u001b[0m\u001b[0m\n\u001b[0m\u001b[1;32m   1181\u001b[0m         \u001b[0;32melse\u001b[0m\u001b[0;34m:\u001b[0m\u001b[0;34m\u001b[0m\u001b[0;34m\u001b[0m\u001b[0m\n\u001b[1;32m   1182\u001b[0m             \u001b[0;32mif\u001b[0m \u001b[0mengine\u001b[0m \u001b[0;34m==\u001b[0m \u001b[0;34m\"python\"\u001b[0m\u001b[0;34m:\u001b[0m\u001b[0;34m\u001b[0m\u001b[0;34m\u001b[0m\u001b[0m\n",
            "\u001b[0;32m/usr/local/lib/python3.7/dist-packages/pandas/io/parsers.py\u001b[0m in \u001b[0;36m__init__\u001b[0;34m(self, src, **kwds)\u001b[0m\n\u001b[1;32m   2008\u001b[0m         \u001b[0mkwds\u001b[0m\u001b[0;34m[\u001b[0m\u001b[0;34m\"usecols\"\u001b[0m\u001b[0;34m]\u001b[0m \u001b[0;34m=\u001b[0m \u001b[0mself\u001b[0m\u001b[0;34m.\u001b[0m\u001b[0musecols\u001b[0m\u001b[0;34m\u001b[0m\u001b[0;34m\u001b[0m\u001b[0m\n\u001b[1;32m   2009\u001b[0m \u001b[0;34m\u001b[0m\u001b[0m\n\u001b[0;32m-> 2010\u001b[0;31m         \u001b[0mself\u001b[0m\u001b[0;34m.\u001b[0m\u001b[0m_reader\u001b[0m \u001b[0;34m=\u001b[0m \u001b[0mparsers\u001b[0m\u001b[0;34m.\u001b[0m\u001b[0mTextReader\u001b[0m\u001b[0;34m(\u001b[0m\u001b[0msrc\u001b[0m\u001b[0;34m,\u001b[0m \u001b[0;34m**\u001b[0m\u001b[0mkwds\u001b[0m\u001b[0;34m)\u001b[0m\u001b[0;34m\u001b[0m\u001b[0;34m\u001b[0m\u001b[0m\n\u001b[0m\u001b[1;32m   2011\u001b[0m         \u001b[0mself\u001b[0m\u001b[0;34m.\u001b[0m\u001b[0munnamed_cols\u001b[0m \u001b[0;34m=\u001b[0m \u001b[0mself\u001b[0m\u001b[0;34m.\u001b[0m\u001b[0m_reader\u001b[0m\u001b[0;34m.\u001b[0m\u001b[0munnamed_cols\u001b[0m\u001b[0;34m\u001b[0m\u001b[0;34m\u001b[0m\u001b[0m\n\u001b[1;32m   2012\u001b[0m \u001b[0;34m\u001b[0m\u001b[0m\n",
            "\u001b[0;32mpandas/_libs/parsers.pyx\u001b[0m in \u001b[0;36mpandas._libs.parsers.TextReader.__cinit__\u001b[0;34m()\u001b[0m\n",
            "\u001b[0;32mpandas/_libs/parsers.pyx\u001b[0m in \u001b[0;36mpandas._libs.parsers.TextReader._setup_parser_source\u001b[0;34m()\u001b[0m\n",
            "\u001b[0;31mFileNotFoundError\u001b[0m: [Errno 2] No such file or directory: './DATN/data_moi.csv'"
          ]
        }
      ]
    },
    {
      "cell_type": "markdown",
      "metadata": {
        "id": "BqU4VMG-5pMI"
      },
      "source": [
        "### **HỆ SỐ TƯƠNG QUAN GIỮA CÁC INPUT VỚI OUTPUT**\n",
        "Hệ số tương quan thê hiển độ quan hệ tuyến tính giữa 2 biến không phân biệt biến này phụ thuộc biến kia.\n",
        "\n",
        "**Đặc tính:**\n",
        " - Hệ số tương quan không có đơn vị.\n",
        " - Nằm trong khoàng [-1,1].\n",
        "\n",
        "  ![alt text](https://i.imgur.com/72RWtXW.png)\n",
        " - r > 0: Tương quan dương.\n",
        " - r < 0: Tương quan âm.\n",
        " - r = 0: Không tương quan.\n",
        " Đánh giá tương quan giữa 2 biến định lượng.\n",
        "\n",
        " ![alt text](https://i.imgur.com/JpGBUGC.png)\n",
        "\n",
        " "
      ]
    },
    {
      "cell_type": "markdown",
      "metadata": {
        "id": "n4HiF775IQJ0"
      },
      "source": [
        "TÍNH TOÁN HỆ SỐ TƯƠNG QUAN GIỮA CÁC INPUT VỚI OUPUT ĐỂ HIỂU HƠN VỀ DỮ LIỆU"
      ]
    },
    {
      "cell_type": "code",
      "metadata": {
        "id": "dOlqn-e95pMK"
      },
      "source": [
        "getCovarianceMatrixAndPrintScatterPlot(x, y)"
      ],
      "execution_count": null,
      "outputs": []
    },
    {
      "cell_type": "markdown",
      "metadata": {
        "id": "IP5xk4uibrgR"
      },
      "source": [
        "Biểu đồ bên dưới thể hiện được sự đa cộng tuyến, cụ thể là các input có sự tương quan cao, các số tương quan cao đó sẽ được nổi bật lên.\n",
        "![alt text](https://i.imgur.com/In7lpb4.png)\n"
      ]
    },
    {
      "cell_type": "markdown",
      "metadata": {
        "id": "jXiW7q9CMcu_"
      },
      "source": [
        "Biểu đồ thể hiện đầy đủ sự tương quan giữa input với input và giữa input với output\n",
        "![alt text](https://i.imgur.com/SqrTYVL.png)"
      ]
    },
    {
      "cell_type": "markdown",
      "metadata": {
        "id": "gABrjxTbUPub"
      },
      "source": [
        "Biểu đồ thể hiện sự tương quan giữa các biến sử dụng python"
      ]
    },
    {
      "cell_type": "code",
      "metadata": {
        "id": "LY9om44bUac6"
      },
      "source": [
        "data = pd.DataFrame(data_com, columns= ['price_usd', 'price_btc', 'total_supply', 'market_cap_usd', 'available_supply', 'usd_raised', 'eth_price_launch',\n",
        "                                        'btc_price_launch', 'ico_duration',\n",
        "                                        'month','day','county', 'output'])\n",
        "g = sns.pairplot(data, palette=\"husl\",  diag_kind=\"kde\")"
      ],
      "execution_count": null,
      "outputs": []
    },
    {
      "cell_type": "markdown",
      "metadata": {
        "id": "AVLnDzFIHwsS"
      },
      "source": [
        "### BẢNG PHÂN TÍCH TƯƠNG QUAN"
      ]
    },
    {
      "cell_type": "code",
      "metadata": {
        "id": "5icT6SZJ_Agi"
      },
      "source": [
        "data.corr(method ='pearson') "
      ],
      "execution_count": null,
      "outputs": []
    },
    {
      "cell_type": "markdown",
      "metadata": {
        "id": "vcZKgCHNMwtO"
      },
      "source": [
        "Biểu đồ tương quan thể hiện bằng màu sắc."
      ]
    },
    {
      "cell_type": "code",
      "metadata": {
        "id": "GCaqnTpc-vlp"
      },
      "source": [
        "corr = data.corr()\n",
        "ax = sns.heatmap(\n",
        "    corr, \n",
        "    vmin=-1, vmax=1, center=0,\n",
        "    cmap=sns.diverging_palette(20, 220, n=200),\n",
        "    square=True\n",
        ")\n",
        "ax.set_xticklabels(\n",
        "    ax.get_xticklabels(),\n",
        "    rotation=45,\n",
        "    horizontalalignment='right'\n",
        ");"
      ],
      "execution_count": null,
      "outputs": []
    },
    {
      "cell_type": "markdown",
      "metadata": {
        "id": "Dv4McsP6Fes4"
      },
      "source": [
        "### **MÃ HÓA VÀ PHÂN CHIA DỮ LIỆU**\n",
        "Sử dụng one hot encoding để mã hóa các trường dữ liệu: ICO Duration, ICO Date, ICO month launched and ICO country."
      ]
    },
    {
      "cell_type": "code",
      "metadata": {
        "id": "UTcYixh9GRvC"
      },
      "source": [
        "\"\"\"\n",
        "MÃ HÓA VÀ PHÂN LOẠI DỮ LIỆU VÀ PHÂN LOẠI DỮ LIỆU\n",
        "\"\"\"\n",
        "def encodeData(x):\n",
        "    enc = OneHotEncoder(handle_unknown='error', sparse=False)\n",
        "    # Mã hóa one hot cho 4 4 trường dữ liệu ICO Date, ICO month launched and ICO country.\n",
        "    encodedCategoryArray= enc.fit_transform(x[:,8:12])\n",
        "    # Loại bỏ 4 trường dữ liệu đó từ dataset.\n",
        "    allInputsExceptCategorical = np.delete(x, np.s_[8:12], axis=1)\n",
        "    # Ghép các input còn lại với các trường mã hóa.\n",
        "    encodedX = np.concatenate((allInputsExceptCategorical,encodedCategoryArray),axis=1)\n",
        "    return encodedX\n",
        "\n",
        "def encodeSingleElement(x, sample):\n",
        "    enc = OneHotEncoder(handle_unknown='error', sparse=False)\n",
        "\n",
        "    encodedCategoryArray= enc.fit(x[:,8:12])\n",
        "    allInputsExceptCategorical = np.delete(sample, np.s_[8:12], axis=0)\n",
        "    \n",
        "    encodedCategories  = enc.transform(sample[8:12].reshape(1, -1))\n",
        "    encodedX = np.concatenate((allInputsExceptCategorical,encodedCategories.flatten()),axis=0)\n",
        "    return (encodedX, encodedCategoryArray)"
      ],
      "execution_count": null,
      "outputs": []
    },
    {
      "cell_type": "code",
      "metadata": {
        "id": "zoGFEDHrGjWw"
      },
      "source": [
        "encodeX = encodeData(x)"
      ],
      "execution_count": null,
      "outputs": []
    },
    {
      "cell_type": "markdown",
      "metadata": {
        "id": "MY1DiR9WAPDO"
      },
      "source": [
        "### **CHIA DATASET THÀNH TẬP TRAIN VÀ TẬP TEST**\n",
        "80% cho tập train và 20% cho tập test. Sau đó trong tập train cũng chia 80/20 để tính toán."
      ]
    },
    {
      "cell_type": "code",
      "metadata": {
        "id": "eFRK3nGbBOtW"
      },
      "source": [
        "X_cross, X_test_holdout, y_cross, y_test_holdout = train_test_split(encodeX, y, test_size=0.2, random_state = 42)"
      ],
      "execution_count": null,
      "outputs": []
    },
    {
      "cell_type": "markdown",
      "metadata": {
        "id": "EOmTGmYxJ9mR"
      },
      "source": [
        "# **Ridge Regession**\n",
        "\n",
        "---\n",
        "\n",
        "\n",
        "Chia dữ liệu thành 80/20 từ trập train Ridge Regression"
      ]
    },
    {
      "cell_type": "code",
      "metadata": {
        "id": "7w_6ZPTGKOFP"
      },
      "source": [
        "def ridgeRegression(x, y):       \n",
        "    X_train, X_val, y_train, y_val = train_test_split(x, y, test_size=0.2)\n",
        "    regressor_Ridge = linear_model.RidgeCV(gcv_mode='svd', alphas = [0.6, 1.0, 1.1, 1.2, 1.3, 1.4, 1.5, 10],\n",
        "                                            normalize=True)\n",
        "    regressor_Ridge.fit(X_train, y_train) \n",
        "\n",
        "    bestRegressionCoef_Ridge = regressor_Ridge.coef_    \n",
        "    y_pred_Ridge = regressor_Ridge.predict(X_val)\n",
        "    \n",
        "    r2_Ridge = r2_score(y_val, y_pred_Ridge)    \n",
        "    rMeanSquaredError_Ridge = sqrt(mean_squared_error(y_val, y_pred_Ridge))\n",
        "    meanAbsoluteError = mean_absolute_error(y_val, y_pred_Ridge)  \n",
        "      \n",
        "    return (regressor_Ridge, rMeanSquaredError_Ridge, r2_Ridge, meanAbsoluteError, bestRegressionCoef_Ridge)"
      ],
      "execution_count": null,
      "outputs": []
    },
    {
      "cell_type": "markdown",
      "metadata": {
        "id": "JmxAWdTHIfvF"
      },
      "source": [
        "MỘT DẠNG KHÁC TỐI ƯU THÔNG SỐ RIDGE MÀ KHÔNG CẦN PHẢI PHÂN TÍCH DỮ LIỆU.\n",
        "KẾT HỢP PIELINE VÀ PCA. NHƯNG THƯ VIỆN GGCOLAB BÁO LỖI.CHẠY DƯỚI LOCAL THÌ KHÔNG CÓ LỖI."
      ]
    },
    {
      "cell_type": "code",
      "metadata": {
        "id": "d1cQNRJHGueC"
      },
      "source": [
        "def ridgeRegression2(x,y):\n",
        "    X_train, X_val, y_train, y_val = train_test_split(x, y, test_size=0.2)\n",
        "    ridge = linear_model.Ridge()\n",
        "    sc = StandardScaler()\n",
        "    # TẠO 1 ĐỐI TƯỢNG PCA\n",
        "    pca = decomposition.PCA() \n",
        "    pipe = Pipeline(steps=[('sc', sc),\n",
        "                       ('pca', pca),\n",
        "                       ('ridge', ridge)])\n",
        "    n_components = list(range(1, X_train.shape[1] + 1, 1))    \n",
        "    normalize = [True, False ]\n",
        "    solver = ['auto', 'svd', 'cholesky', 'lsqr', 'sparse_cg', 'sag', 'saga']\n",
        "    parameters = dict(pca__n_components=n_components,\n",
        "                  ridge__normalize=normalize,\n",
        "                  ridge__solver=solver)\n",
        "    clf = GridSearchCV(pipe, parameters)\n",
        "    # Fit the grid search\n",
        "    regressor = clf.fit(X_train, y_train)       \n",
        "    y_pred = regressor.predict(X_val)   \n",
        "    #print('Best Number Of Components:', clf.best_estimator_)\n",
        "    print(); print(clf.best_estimator_.get_params()['ridge'])  \n",
        "    r2 = r2_score(y_val, y_pred)\n",
        "    rMeanSquaredError = sqrt(mean_squared_error(y_val, y_pred))    \n",
        "    coefRidge = clf.best_estimator_.named_steps['ridge'].coef_\n",
        "    return (regressor, rMeanSquaredError, r2, coefRidge)   "
      ],
      "execution_count": null,
      "outputs": []
    },
    {
      "cell_type": "markdown",
      "metadata": {
        "id": "07x3qnWOKSbA"
      },
      "source": [
        "## **TÍNH TOÁN TRAINING ERROR VÀ TEST ERROR**\n",
        "Tim hiểu xem model có bị hiện tượng overfitting"
      ]
    },
    {
      "cell_type": "code",
      "metadata": {
        "id": "aWH_Jtw8KYjz"
      },
      "source": [
        "def trainingError(x,y):   \n",
        "    regressor = linear_model.LinearRegression()\n",
        "    regressor.fit(x, y)  \n",
        "    y_pred_training = regressor.predict(x)\n",
        "    trainingError = mean_squared_error(y, y_pred_training)     \n",
        "    return (regressor, trainingError, y_pred_training) "
      ],
      "execution_count": null,
      "outputs": []
    },
    {
      "cell_type": "code",
      "metadata": {
        "id": "R1M2vt8WO8SW"
      },
      "source": [
        "def testError(x, y, regressor):\n",
        "    y_pred_holdout = regressor.predict(x)    \n",
        "    test_error = mean_squared_error(y, y_pred_holdout)       \n",
        "    return test_error, y_pred_holdout"
      ],
      "execution_count": null,
      "outputs": []
    },
    {
      "cell_type": "markdown",
      "metadata": {
        "id": "-P11J9oiVyp9"
      },
      "source": [
        "#### **OVERFITTING**\n",
        "Là hiện tượng quá khớp cụ thể là khớp hoàn toàn hoặc gận như hoàn toàn đối với tập train nhưng là rất tệ trên tập test."
      ]
    },
    {
      "cell_type": "code",
      "metadata": {
        "id": "vGU8qX9SV3BX"
      },
      "source": [
        "regressor, trainingError, y_pred_training = trainingError(X_cross, y_cross)  \n",
        "test_error, y_pred_holdout = testError(X_test_holdout, y_test_holdout, regressor)\n",
        "print(\"TRAINING ERROR: {:f}\".format(trainingError))\n",
        "heading = \"Training Error: \" + str(trainingError)\n",
        "plotExpectedVsPredictedOutput2(y_cross, y_pred_training, fileName = heading, saveToFile = True)\n",
        "line_plot(y_cross, y_pred_training, title= heading, lw=2)\n",
        "print(\"TEST ERROR: {:f}\".format(test_error))\n",
        "heading = \"Test Error: \" + str(test_error)\n",
        "print(\"Predicted value: \\n \")\n",
        "print(y_pred_holdout)\n",
        "print(\"Actual value: \\n \")\n",
        "print(y_test_holdout)\n",
        "\n",
        "plotExpectedVsPredictedOutput2(y_test_holdout, y_pred_holdout, fileName = heading, saveToFile = True)\n",
        "line_plot(y_test_holdout, y_pred_holdout, title=heading, lw=2)\n",
        "\n",
        "# ICO 0x CÓ GIÁ TRỊ DỰ ĐOÁN SAU 6 THÁNG LÀ 1.08\n",
        "ico_0x= np.array([1.71456, 0.00019931, 1000000000, 905793616, 528295082, 24000000, 297.63, 3420.4, 7, 8, 9, 182])\n",
        "y_pred1 = makePrediction(regressor, ico_0x)\n",
        "print(\"Predicted value ICO 0x (Actual value: 1.08) after 6 months: \", y_pred1)"
      ],
      "execution_count": null,
      "outputs": []
    },
    {
      "cell_type": "markdown",
      "metadata": {
        "id": "9-6rxuocUsRy"
      },
      "source": [
        "## **HÀM TỐI ƯU KẾT QUẢ**"
      ]
    },
    {
      "cell_type": "code",
      "metadata": {
        "id": "vuC2acOoUxte"
      },
      "source": [
        "\"\"\"\n",
        "LƯU LẠI MODEL TỐT NHẤT.\n",
        "\"\"\"\n",
        "def saveBestModel(model,fileName):\n",
        "    exists = os.path.isfile(fileName)    \n",
        "    if exists:    \n",
        "        joblib.load(fileName)\n",
        "    else:\n",
        "        joblib.dump(model, fileName)\n",
        "        return    \n",
        "    \n",
        "    y_pred_holdout_saved_model = joblib.load(fileName).predict(X_test_holdout)\n",
        "    rSquared_saved_model = r2_score(y_test_holdout, y_pred_holdout_saved_model)\n",
        "    rMse_saved_model = sqrt(mean_squared_error(y_test_holdout, y_pred_holdout_saved_model))\n",
        "    mAE_saved_model = mean_absolute_error(y_test_holdout, y_pred_holdout_saved_model)\n",
        "    \n",
        "   \n",
        "    y_pred_holdout_new_model = model.predict(X_test_holdout)\n",
        "    rSquared_new_model = r2_score(y_test_holdout, y_pred_holdout_new_model)\n",
        "    rMse_new_model = sqrt(mean_squared_error(y_test_holdout, y_pred_holdout_new_model))\n",
        "    mAE_new_model = mean_absolute_error(y_test_holdout, y_pred_holdout_new_model)\n",
        "    \n",
        "    #KIỂM TRA ĐIỀU KIỆN\n",
        "    if(str(LineaReggressionMetrics.ROOT_MEAN_SQUARED_ERROR.name) in fileName):\n",
        "        if(rMse_new_model < rMse_saved_model):\n",
        "            joblib.dump(model, fileName) \n",
        "    elif(str(LineaReggressionMetrics.MEAN_ABSOLUTE_ERROR.name) in fileName):\n",
        "        if(mAE_new_model < mAE_saved_model):\n",
        "            joblib.dump(model, fileName) \n",
        "    else:\n",
        "        if(rSquared_new_model > rSquared_saved_model and rSquared_new_model < 1):\n",
        "            joblib.dump(model, fileName)  "
      ],
      "execution_count": null,
      "outputs": []
    },
    {
      "cell_type": "code",
      "metadata": {
        "id": "F26Gc74oWDD5"
      },
      "source": [
        "def Optimize(metricToOptimize, numIterations, x, y, showOutput = True):\n",
        "     \n",
        "    # GIÁ TRỊ R2, rMSE, MAE CỦA HỒI QUY RIDGE\n",
        "    maxRSquared_Ridge = -10000\n",
        "    rMSEMin_Ridge = 10000\n",
        "    meanABError_min = 10000   \n",
        "\n",
        "    crossValidationMeanSquaredError = 1\n",
        "    crossValidationMeanAbsoluteError = 1\n",
        "    crossValidationR2Squared = 1\n",
        "    bestRidgeModel = None \n",
        "\n",
        "    plotrMSE = []\n",
        "    plotR2 = []\n",
        "    plotMAE = []  \n",
        "\n",
        "    # HỆ SỐ HỒI QUY KHI SỬ DỤNG HỒI QUY RIDGE    \n",
        "    bestRegressionCoef_temp_Ridge = np.array([])\n",
        "    bestRegressionCoef_rMSE_Ridge = np.array([])\n",
        "    bestRegressionCoef_R2_Ridge = np.array([])\n",
        "    bestRegressionCoef_MAE_Ridge = np.array([])    \n",
        "\n",
        "    for i in np.arange(numIterations):\n",
        "        bestRegression_Ridge, rootMeanSquaredError_Ridge, rSquared_Ridge, meanAbsoluteError, bestRegressionCoef_temp_Ridge  = ridgeRegression(x, y)\n",
        "              \n",
        "#       TÌM GIÁ TRỊ rMSE TỐT NHẤT\n",
        "        if(metricToOptimize == LineaReggressionMetrics.ROOT_MEAN_SQUARED_ERROR):\n",
        "            if(rootMeanSquaredError_Ridge < rMSEMin_Ridge):\n",
        "                rMSEMin_Ridge = rootMeanSquaredError_Ridge              \n",
        "                crossValidationMeanSquaredError = rootMeanSquaredError_Ridge\n",
        "                plotrMSE.append(rootMeanSquaredError_Ridge)               \n",
        "                bestRegressionCoef_rMSE_Ridge = bestRegressionCoef_temp_Ridge \n",
        "                bestRidgeModel = bestRegression_Ridge\n",
        "            if(showOutput):\n",
        "                print(i,\" bestrMSE: \", rMSEMin_Ridge)\n",
        "\n",
        "        elif(metricToOptimize == LineaReggressionMetrics.MEAN_ABSOLUTE_ERROR):\n",
        "            if(meanAbsoluteError < meanABError_min):\n",
        "                meanABError_min = meanAbsoluteError\n",
        "                plotMAE.append(meanAbsoluteError)                             \n",
        "                bestRegressionCoef_MAE_Ridge = bestRegressionCoef_temp_Ridge\n",
        "                crossValidationMeanAbsoluteError = meanAbsoluteError\n",
        "                bestRidgeModel = bestRegression_Ridge                   \n",
        "            if(showOutput):\n",
        "                print(i,\" bestrMAE: \", meanABError_min)                      \n",
        "#      Tìm GIÁ TRỊ R2 TỐT NHẤT\n",
        "        else:\n",
        "            if(rSquared_Ridge > maxRSquared_Ridge and rSquared_Ridge > 0):\n",
        "                maxRSquared_Ridge = rSquared_Ridge               \n",
        "                bestRegressionCoef_R2_Ridge = bestRegressionCoef_temp_Ridge\n",
        "                plotR2.append(rSquared_Ridge)  \n",
        "                crossValidationR2Squared = rSquared_Ridge\n",
        "                bestRidgeModel = bestRegression_Ridge                  \n",
        "            if(showOutput):\n",
        "                print(i,\"bestRSquared:\",maxRSquared_Ridge)   \n",
        "   \n",
        "   \n",
        "          \n",
        "    if(metricToOptimize == LineaReggressionMetrics.ROOT_MEAN_SQUARED_ERROR):\n",
        "        print(\" \\n Best rMSE: {:f} \\n ,after running linear regression {:d} different times with different test and training combinations\"\n",
        "              .format(rMSEMin_Ridge,numIterations))\n",
        "        print(\"Value alpha: \", bestRidgeModel.alpha_)     \n",
        "        line_plot2(plotrMSE, title='Optimize value rMSE on validation data', \n",
        "                   label1='rMSE')      \n",
        "        \n",
        "    elif(metricToOptimize == LineaReggressionMetrics.MEAN_ABSOLUTE_ERROR):\n",
        "        print(\" \\n Best MAE: {:f} \\n ,after running linear regression {:d} different times with different test and training combinations\"\n",
        "              .format(meanABError_min,numIterations))\n",
        "        print(\"Value alpha: \", bestRidgeModel.alpha_)    \n",
        "        line_plot2(plotMAE, title='Optimize value MAE on validation data',\n",
        "                    label1='MAE')    \n",
        "    else: \n",
        "       print(\" \\n Best RSquared: {:f} \\n ,after running linear regression {:d} different times with different test and training combinations\"\n",
        "              .format(maxRSquared_Ridge,numIterations))\n",
        "       print(\"Value alpha: \", bestRidgeModel.alpha_)    \n",
        "       line_plot2(plotR2, title='Optimize value R2 on validation data', \n",
        "                   label1='R2')   \n",
        "     \n",
        "    if(showOutput):\n",
        "        print(\" \\n Best regression coef rMSE: \", bestRegressionCoef_rMSE_RG,\"\\n\")\n",
        "        print(\" \\n Best regression coef R2: \", bestRegressionCoef_R2_RG,\"\\n\")\n",
        "        print(\" \\n Best regression coef MAE: \", bestRegressionCoef_MAE_Ridge,\"\\n\")\n",
        "    \n",
        "    fileName_Ridge = \"RESULT/\" + \"bestRegressionModel_Ridge_\" + str(metricToOptimize.name) + \".sav\"   \n",
        "    saveBestModel(bestRidgeModel, fileName_Ridge)   "
      ],
      "execution_count": null,
      "outputs": []
    },
    {
      "cell_type": "code",
      "metadata": {
        "id": "rwJt2qYNOWb5"
      },
      "source": [
        "ico_0x = np.array([1.71456, 0.00019931, 1000000000, 905793616, 528295082, 24000000, 297.63, 3420.4, 7, 8, 9, 182])\n",
        "ico_modum = np.array([2.36319, 0.00027471, 27266200, 43166501, 18266200, 13500000, 383.47, 4701.76, 21, 9, 1, 33])\n",
        "ico_crypto20 = np.array([1.68825, 0.00019625, 40656082, 66992446, 39681591, 38222081, 308.89, 4369.35, 54, 10, 7, 196])\n",
        "def Optimize2(numIterations, x, y):\n",
        "    for i in np.arange(numIterations):\n",
        "        bestRegression_Ridge, rootMeanSquaredError_Ridge, rSquared_Ridge, meanAbsoluteError, bestRegressionCoef_temp_Ridge  = ridgeRegression(x, y)\n",
        "        y_pred_ico0x = makePrediction(bestRegression_Ridge, ico_0x)\n",
        "        y_pred_modum = makePrediction(bestRegression_Ridge, ico_modum)\n",
        "        y_pred_crypto20 = makePrediction(bestRegression_Ridge, ico_crypto20)\n",
        "        y_pred_holdout = bestRegression_Ridge.predict(X_test_holdout) \n",
        "        rMSE_holdout = sqrt(mean_squared_error(y_test_holdout, y_pred_holdout))\n",
        "        r2_holdout = r2_score(y_test_holdout, y_pred_holdout)\n",
        "        holdout_MAE = mean_absolute_error(y_test_holdout, y_pred_holdout)\n",
        "        print(\"TIME: \",i)\n",
        "        print(\"Price ICO 0x (REAL: 1.08): \", y_pred_ico0x)\n",
        "        print(\"Price ICO modum (REAL: 2.79): \", y_pred_modum)\n",
        "        print(\"Price ICO crypto20 (REAL: 0.9876): \", y_pred_crypto20)\n",
        "        print(\"Value rMSE: \", rMSE_holdout)\n",
        "        print(\"Value R2: \", r2_holdout)\n",
        "        print(\"Value MAE: \", holdout_MAE)\n",
        "        print(\"**********************************************************************************\")\n",
        "        print(\"\\n\")"
      ],
      "execution_count": null,
      "outputs": []
    },
    {
      "cell_type": "markdown",
      "metadata": {
        "id": "hREoIIfbk7SV"
      },
      "source": [
        "## **SO SÁNH CÁC THAM SỐ GIỮA HỒI QUY RIDGE VÀ HÔI QUY ĐA BIẾN**\n",
        "Sau khi chạy tổ hợp 10000 lần khác nhau với tập huấn luyện"
      ]
    },
    {
      "cell_type": "code",
      "metadata": {
        "id": "oxl7dRkBlZTk"
      },
      "source": [
        "n = 20000 # sô lần lặp\n",
        "showOutput = False\n",
        "saveToFile = False\n",
        "Optimize(LineaReggressionMetrics.ROOT_MEAN_SQUARED_ERROR, n , X_cross, y_cross, showOutput)"
      ],
      "execution_count": null,
      "outputs": []
    },
    {
      "cell_type": "code",
      "metadata": {
        "id": "fgWEPtmQQKiV"
      },
      "source": [
        "n = 20000 # sô lần lặp\n",
        "Optimize(LineaReggressionMetrics.R_SQUARED, n, X_cross, y_cross, showOutput)\n",
        "#  https://stats.stackexchange.com/questions/12900/when-is-r-squared-negative"
      ],
      "execution_count": null,
      "outputs": []
    },
    {
      "cell_type": "code",
      "metadata": {
        "id": "s9F21ITghzKr"
      },
      "source": [
        "n = 20000 # sô lần lặp\n",
        "Optimize(LineaReggressionMetrics.MEAN_ABSOLUTE_ERROR, n, X_cross, y_cross, showOutput)"
      ],
      "execution_count": null,
      "outputs": []
    },
    {
      "cell_type": "markdown",
      "metadata": {
        "id": "eV-J4OwCPVIM"
      },
      "source": [
        "So sánh 2 cách tiếp cận: \n",
        "- Tìm ra model tối ưu từng thông số rMSE, R2, MAE\n",
        "- Đi lấy model hình khi huấn luyện đi dự đoán rồi xem giá trị nào gần thực tế nhất thì chọn rồi suy ngược lại 3 giá trị tối ưu"
      ]
    },
    {
      "cell_type": "code",
      "metadata": {
        "id": "-CfWvpCDT0w0"
      },
      "source": [
        " Optimize2(100, X_cross, y_cross)"
      ],
      "execution_count": null,
      "outputs": []
    },
    {
      "cell_type": "markdown",
      "metadata": {
        "id": "suKjjEQGyayt"
      },
      "source": [
        "### **LOAD MODEL ĐÃ LƯU VÀ VẼ BIỂU ĐỒ** "
      ]
    },
    {
      "cell_type": "code",
      "metadata": {
        "id": "HLTO3WUTygop"
      },
      "source": [
        "# LOAD MODEL SỬ DỤNG HỒI QUY RIDGE - rMSE\n",
        "fileName1 = \"RESULT/\" + \"bestRegressionModel_Ridge_\" + str(LineaReggressionMetrics.ROOT_MEAN_SQUARED_ERROR.name) + \".sav\"\n",
        "bestRegression_rMSE_Ridge = loadModel(fileName1)\n",
        "saveToFile = True\n",
        "y_pred_holdout_rMSE = []\n",
        "y_pred_holdout_R2 = []\n",
        "y_pred_holdout_MAE = []\n",
        "\n",
        "holdOutMeanSquaredError = 0.0\n",
        "holdOutValidationR2Squared = 0.0\n",
        "holdOutMeanABError = 0.0\n",
        "\n",
        "if(bestRegression_rMSE_Ridge):\n",
        "    y_pred_holdout_rMSE = bestRegression_rMSE_Ridge.predict(X_test_holdout)  \n",
        "    holdOutMeanSquaredError = sqrt(mean_squared_error(y_test_holdout, y_pred_holdout_rMSE))\n",
        "    print(\"Predicted value when using best model rMSE: \")\n",
        "    print(y_pred_holdout_rMSE)   \n",
        "    print(\"Actual value: \")\n",
        "    print(y_test_holdout)\n",
        "    heading = \"Best_rMSE_Ridge_Regression_\" + str(holdOutMeanSquaredError)\n",
        "    plotExpectedVsPredictedOutput2(y_test_holdout, y_pred_holdout_rMSE, heading, saveToFile)\n",
        "    #plotExpectedVsPredictedOutput(y_test_holdout, y_pred_holdout_rMSE, heading, saveToFile)\n",
        "    line_plot(y_test_holdout, y_pred_holdout_rMSE, title=heading, lw=2)\n",
        "    print(\"Regression coefficient when using best model rMSE: \")  \n",
        "    print(bestRegression_rMSE_Ridge.coef_)\n",
        "    print(\"************************************************************************************************\")\n",
        "    print(\"\\n\")\n",
        "\n",
        "# LOAD MODEL SỬ DỤNG HỒI QUY RIDGE - R2\n",
        "fileName3 = \"RESULT/\" + \"bestRegressionModel_Ridge_\" + str(LineaReggressionMetrics.R_SQUARED.name) + \".sav\"\n",
        "bestRegression_rSquared_Ridge = loadModel(fileName3)\n",
        "\n",
        "if(bestRegression_rSquared_Ridge):\n",
        "    y_pred_holdout_R2 = bestRegression_rSquared_Ridge.predict(X_test_holdout)   \n",
        "    holdOutValidationR2Squared = r2_score(y_test_holdout, y_pred_holdout_R2)\n",
        "    print(\"Predicted value when using best model R2: \")\n",
        "    print(y_pred_holdout_R2)\n",
        "    print(\"Actual value: \")\n",
        "    print(y_test_holdout)\n",
        "    heading = \"Best_rRSquared_Ridge_Regression_\" + str(holdOutValidationR2Squared)\n",
        "    plotExpectedVsPredictedOutput2(y_test_holdout, y_pred_holdout_R2,heading, saveToFile)\n",
        "    #plotExpectedVsPredictedOutput(y_test_holdout, y_pred_holdout_R2,heading, saveToFile)\n",
        "    line_plot(y_test_holdout, y_pred_holdout_R2, title=heading, lw=2)\n",
        "    print(\"Regression coefficient when using best model R2: \")\n",
        "    print(bestRegression_rSquared_Ridge.coef_) \n",
        "    print(\"************************************************************************************************\")\n",
        "    print(\"\\n\")\n",
        "\n",
        "fileName4 = \"RESULT/\" + \"bestRegressionModel_Ridge_\" + str(LineaReggressionMetrics.MEAN_ABSOLUTE_ERROR.name) + \".sav\"\n",
        "bestRegression_MAE_Ridge = loadModel(fileName4)\n",
        "\n",
        "if(bestRegression_MAE_Ridge):\n",
        "    y_pred_holdout_MAE = bestRegression_MAE_Ridge.predict(X_test_holdout)   \n",
        "    holdOutMeanABError = mean_absolute_error(y_test_holdout, y_pred_holdout_MAE)\n",
        "    print(\"Predicted value when using best model MAE: \")\n",
        "    print(y_pred_holdout_MAE)\n",
        "    print(\"Actual value: \")\n",
        "    print(y_test_holdout)\n",
        "    heading = \"Best_MAE_Ridge_Regression_\" + str(holdOutMeanABError)\n",
        "    plotExpectedVsPredictedOutput2(y_test_holdout,y_pred_holdout_MAE,heading,saveToFile)\n",
        "    #plotExpectedVsPredictedOutput(y_test_holdout,y_pred_holdout_MAE,heading,saveToFile)\n",
        "    line_plot(y_test_holdout, y_pred_holdout_MAE, title=heading, lw=2)    \n",
        "    print(\"Regression coefficient when using best model MAE: \")\n",
        "    print(bestRegression_rSquared_Ridge.coef_)\n",
        "\n",
        "plotResult(y_test_holdout, y_pred_holdout_rMSE, y_pred_holdout_R2, y_pred_holdout_MAE, rMSE = str(holdOutMeanSquaredError), \n",
        "           R2 = str(holdOutValidationR2Squared), MAE = str(holdOutMeanABError))"
      ],
      "execution_count": null,
      "outputs": []
    },
    {
      "cell_type": "markdown",
      "metadata": {
        "id": "9Il9yyQ9rKNe"
      },
      "source": [
        "## **SỬ DỤNG MODEL ĐỂ DỰ ĐOÁN - GIÁ TRỊ CỦA ICO SAU 6 THÁNG**"
      ]
    },
    {
      "cell_type": "code",
      "metadata": {
        "id": "KfhaxGtUrRgF"
      },
      "source": [
        "# LOAD MODEL VỚI GIÁ TRỊ rMSE LÀ TỐT NHẤT\n",
        "fileName1 = \"RESULT/\" + \"bestRegressionModel_Ridge_\" + str(LineaReggressionMetrics.ROOT_MEAN_SQUARED_ERROR.name) + \".sav\"\n",
        "bestRegression_rMSE_Ridge = joblib.load(fileName1)\n",
        "price_rMSE = []\n",
        "price_R2 = []\n",
        "price_MAE = []\n",
        "#price_usd,price_btc,total_supply,market_cap_usd,available_supply,usd_raised,eth_price_launch,btc_price_launch,ico_duration,month,day,country\n",
        "ico_0x = np.array([1.71456, 0.00019931, 1000000000, 905793616, 528295082, 24000000, 297.63, 3420.4, 7, 8, 9, 182])\n",
        "ico_modum = np.array([2.36319, 0.00027471, 27266200, 43166501, 18266200, 13500000, 383.47, 4701.76, 21, 9, 1, 33])\n",
        "ico_crypto20 = np.array([1.68825, 0.00019625, 40656082, 66992446, 39681591, 38222081, 308.89, 4369.35, 54, 10, 7, 196])\n",
        "ico_wanchin = np.array([6.71639, 0.00078075, 210000000, 712961540, 106152493, 35704520, 297.48, 4408.46, 1, 10, 3, 182])\n",
        "y_pred1 = makePrediction(bestRegression_rMSE_Ridge, ico_0x)\n",
        "y_pred2 = makePrediction(bestRegression_rMSE_Ridge, ico_modum)\n",
        "y_pred3 = makePrediction(bestRegression_rMSE_Ridge, ico_crypto20)\n",
        "price_rMSE.append(y_pred1)\n",
        "price_rMSE.append(y_pred2)\n",
        "price_rMSE.append(y_pred3)\n",
        "y_pred_holdout_rMSE = bestRegression_rMSE_Ridge.predict(X_test_holdout) \n",
        "rMSE_holdout = sqrt(mean_squared_error(y_test_holdout, y_pred_holdout_rMSE))\n",
        "r2_holdout = r2_score(y_test_holdout, y_pred_holdout_rMSE)\n",
        "holdout_MAE  = mean_absolute_error(y_test_holdout, y_pred_holdout_rMSE)\n",
        "print(\"Price of 3 ICO when using best mode rMSE\")\n",
        "print(\"Predicted value of ICO 0x (real price: 1.08) after 6 months: \",y_pred1)\n",
        "print(\"Predicted value of ICO modum (real price: 2.79) after 6 months: \",y_pred2)\n",
        "print(\"Predicted value of ICO crypto20 (real price: 0.9786) after 6 months: \",y_pred3)\n",
        "print(\"Value rMSE, R2, MAE of best model rMSE\")\n",
        "print(\"Value rMSE: \", rMSE_holdout)\n",
        "print(\"Value R2: \", r2_holdout)\n",
        "print(\"Value MAE: \", holdout_MAE)\n",
        "print(\"*******************************************************************************************\")\n",
        "print(\"\\n\")\n",
        "\n",
        "# LOAD MODEL VỚI GIÁ TRỊ R2 LÀ TỐT NHẤT\n",
        "fileName2 = \"RESULT/\" + \"bestRegressionModel_Ridge_\" + str(LineaReggressionMetrics.R_SQUARED.name) + \".sav\"\n",
        "bestRegression_rSquared_Ridge = joblib.load(fileName2)\n",
        "y_pred4 = makePrediction(bestRegression_rSquared_Ridge, ico_0x)\n",
        "y_pred5 = makePrediction(bestRegression_rSquared_Ridge, ico_modum)\n",
        "y_pred6 = makePrediction(bestRegression_rSquared_Ridge, ico_crypto20)\n",
        "price_R2.append(y_pred4)\n",
        "price_R2.append(y_pred5)\n",
        "price_R2.append(y_pred6)\n",
        "y_pred_holdout_R2 = bestRegression_rSquared_Ridge.predict(X_test_holdout) \n",
        "rMSE_holdout = sqrt(mean_squared_error(y_test_holdout, y_pred_holdout_R2))\n",
        "r2_holdout = r2_score(y_test_holdout, y_pred_holdout_R2)\n",
        "holdout_MAE  = mean_absolute_error(y_test_holdout, y_pred_holdout_R2)\n",
        "print(\"Price of 3 ICO when using best mode R2\")\n",
        "print(\"Predicted value of ICO 0x (real price: 1.08) after 6 months: \",y_pred4)\n",
        "print(\"Predicted value of ICO modum (real price: 2.79) after 6 months: \",y_pred5)\n",
        "print(\"Predicted value of ICO crypto20 (real price: 0.9786) after 6 months: \",y_pred6)\n",
        "print(\"Value rMSE, R2, MAE of best model R2\")\n",
        "print(\"Value rMSE: \", rMSE_holdout)\n",
        "print(\"Value R2: \", r2_holdout)\n",
        "print(\"Value MAE: \", holdout_MAE)\n",
        "print(\"*******************************************************************************************\")\n",
        "print(\"\\n\")\n",
        "\n",
        "# LOAD MODEL VỚI GIÁ TRỊ MAE LÀ TỐT NHẤT\n",
        "fileName3 = \"RESULT/\" + \"bestRegressionModel_Ridge_\" + str(LineaReggressionMetrics.MEAN_ABSOLUTE_ERROR.name) + \".sav\"\n",
        "bestRegression_MAE_Ridge = joblib.load(fileName3)\n",
        "y_pred7 = makePrediction(bestRegression_MAE_Ridge, ico_0x)\n",
        "y_pred8 = makePrediction(bestRegression_MAE_Ridge, ico_modum)\n",
        "y_pred9 = makePrediction(bestRegression_MAE_Ridge, ico_crypto20)\n",
        "price_MAE.append(y_pred7)\n",
        "price_MAE.append(y_pred8)\n",
        "price_MAE.append(y_pred9)\n",
        "y_pred_holdout_MAE = bestRegression_MAE_Ridge.predict(X_test_holdout) \n",
        "rMSE_holdout = sqrt(mean_squared_error(y_test_holdout, y_pred_holdout_MAE))\n",
        "r2_holdout = r2_score(y_test_holdout, y_pred_holdout_MAE)\n",
        "holdout_MAE  = mean_absolute_error(y_test_holdout, y_pred_holdout_MAE)\n",
        "print(\"Price of 3 ICO when using best mode MAE\")\n",
        "print(\"Predicted value of ICO 0x (real price: 1.08) after 6 months: \",y_pred7)\n",
        "print(\"Predicted value of ICO modum (real price: 2.79) after 6 months: \",y_pred8)\n",
        "print(\"Predicted value of ICO crypto20 (real price: 0.9786) after 6 months: \",y_pred9)\n",
        "print(\"Value rMSE, R2, MAE of best model MAE\")\n",
        "print(\"Value rMSE: \", rMSE_holdout)\n",
        "print(\"Value R2: \", r2_holdout)\n",
        "print(\"Value MAE: \", holdout_MAE)\n",
        "print(\"*******************************************************************************************\")\n",
        "print(\"\\n\")\n",
        "plotPredicted(price_rMSE, price_R2, price_MAE)"
      ],
      "execution_count": null,
      "outputs": []
    },
    {
      "cell_type": "markdown",
      "metadata": {
        "id": "Vex2CK2SiVxK"
      },
      "source": [
        "# **Neural Network**"
      ]
    },
    {
      "cell_type": "markdown",
      "metadata": {
        "id": "frAxYV5qitWs"
      },
      "source": [
        "Các hàm dùng để chạy NN với nhiều cấu hình khác nhau."
      ]
    },
    {
      "cell_type": "code",
      "metadata": {
        "id": "393W7Ymei2yq"
      },
      "source": [
        "class Activations(Enum):\n",
        "    identity = 1\n",
        "    logistic = 2\n",
        "    tanh    = 3\n",
        "    relu = 4\n"
      ],
      "execution_count": null,
      "outputs": []
    },
    {
      "cell_type": "code",
      "metadata": {
        "id": "tKyuVbtMjDr9"
      },
      "source": [
        "## LƯU MODEL NẾU MODEL TỐT HƠN MODEL ĐÃ LƯU TRƯỚC ĐÓ\n",
        "def saveBestModelNN(model, fileName):\n",
        "    exists = os.path.isfile(fileName)\n",
        "    if exists:    \n",
        "        # LOAD MODEL ĐÃ LƯU\n",
        "        bestSavedNNModel = joblib.load(fileName)\n",
        "    else:\n",
        "        # LƯU MODEL HIỆN TẠI\n",
        "        joblib.dump(model, fileName)\n",
        "        return\n",
        "    y_pred_holdout_saved_model = bestSavedNNModel.predict(X_test_holdout)\n",
        "    rSquared_saved_model = r2_score(y_test_holdout, y_pred_holdout_saved_model)\n",
        "    rMse_saved_model = sqrt(mean_squared_error(y_test_holdout, y_pred_holdout_saved_model))\n",
        "    mAE_saved_model = mean_absolute_error(y_test_holdout, y_pred_holdout_saved_model)\n",
        "    \n",
        "    #Scores CHO MODEL MỚI\n",
        "    y_pred_holdout_new_model = model.predict(X_test_holdout)\n",
        "    rSquared_new_model = r2_score(y_test_holdout, y_pred_holdout_new_model)\n",
        "    rMse_new_model = sqrt(mean_squared_error(y_test_holdout, y_pred_holdout_new_model))\n",
        "    mAE_new_model = mean_absolute_error(y_test_holdout, y_pred_holdout_new_model)  \n",
        "    \n",
        "    if(str(LineaReggressionMetrics.ROOT_MEAN_SQUARED_ERROR.name) in fileName):\n",
        "        if(rMse_new_model < rMse_saved_model):\n",
        "            joblib.dump(model, fileName) \n",
        "    elif(str(LineaReggressionMetrics.MEAN_ABSOLUTE_ERROR.name) in fileName):\n",
        "        if(mAE_new_model < mAE_saved_model):\n",
        "           joblib.dump(model, fileName)  \n",
        "    else:\n",
        "        if(rSquared_new_model > rSquared_saved_model and rSquared_new_model > 0):\n",
        "            joblib.dump(model, fileName)   \n"
      ],
      "execution_count": null,
      "outputs": []
    },
    {
      "cell_type": "code",
      "metadata": {
        "id": "cJ8AnrwzkJsf"
      },
      "source": [
        "# HÀM runNN DÙNG ĐỂ TÍNH TOÁN VÀ TRẢ VỀ CÁC GIÁ TRỊ R2, rMSE, model, y_val là validation\n",
        "def runNN(x_input, y_input, hidden_layer_size, chosen_solver, chosen_activation):\n",
        "    X_train, X_val, y_train, y_val = train_test_split(x_input, y_input, test_size = 0.2, random_state = 0)\n",
        "\n",
        "    mlp = MLPRegressor(hidden_layer_sizes=(hidden_layer_size, hidden_layer_size, hidden_layer_size), max_iter= 60000, \n",
        "                       activation=chosen_activation, solver=chosen_solver, learning_rate='adaptive', tol=0.001)\n",
        "    mlp.fit(X_train, y_train)\n",
        "    y_pred = mlp.predict(X_val)  \n",
        "\n",
        "    R2coefficient = r2_score(y_val, y_pred)\n",
        "    rMeanSquaredError = sqrt(mean_squared_error(y_val, y_pred))\n",
        "    meanAbsoluteError = mean_squared_error(y_val, y_pred)\n",
        "    \n",
        "    return R2coefficient, rMeanSquaredError, meanAbsoluteError, mlp"
      ],
      "execution_count": null,
      "outputs": []
    },
    {
      "cell_type": "code",
      "metadata": {
        "id": "PyNtfo9LOank"
      },
      "source": [
        "def runNeuralNetOptimizer(metricToOptimize, x_input, y_input, maxIterations, maxHiddenLayerSize, activation, solver, hiddenLayerStepSize=100, showOutput=False):\n",
        "    bestNeuralNetworkModel = None \n",
        "    minrMSE = 10000\n",
        "    maxR2coefficient = -10000\n",
        "    minMAE = 10000\n",
        "    plotrMSE = []\n",
        "    plotR2 = []\n",
        "    plotMAE = []\n",
        " \n",
        "    \n",
        "    # CHẠY NN VỚI NHIỀU KÍCH THƯỚC LỚP ẨN KHÁC NHAU  \n",
        "    for i in np.arange(maxIterations):\n",
        "             for hidden_layer_size in np.arange(1, maxHiddenLayerSize, hiddenLayerStepSize):               \n",
        "                chosen_activation = activation\n",
        "                chosen_solver = solver\n",
        "                currentR2coefficient, currentrMSE, currentMAE, neuralNetworkModel = runNN(x_input, y_input, hidden_layer_size, chosen_solver, chosen_activation)\n",
        "               \n",
        "                if(metricToOptimize == LineaReggressionMetrics.ROOT_MEAN_SQUARED_ERROR):\n",
        "                    if(minrMSE > currentrMSE ):\n",
        "                        minrMSE = currentrMSE\n",
        "                        minMAE = currentMAE\n",
        "                        maxR2coefficient = currentR2coefficient\n",
        "                        plotrMSE.append(currentrMSE)                        \n",
        "                        bestNeuralNetworkModel = neuralNetworkModel                        \n",
        "                        \n",
        "                elif(metricToOptimize == LineaReggressionMetrics.MEAN_ABSOLUTE_ERROR):\n",
        "                    if(minMAE > currentMAE):\n",
        "                         minrMSE = currentrMSE\n",
        "                         minMAE = currentMAE\n",
        "                         maxR2coefficient = currentR2coefficient \n",
        "                         bestNeuralNetworkModel = neuralNetworkModel\n",
        "                         plotMAE.append(currentMAE)                                          \n",
        "                else:\n",
        "                    if(maxR2coefficient < currentR2coefficient and currentR2coefficient > 0):\n",
        "                         minrMSE = currentrMSE\n",
        "                         minMAE = currentMAE\n",
        "                         maxR2coefficient = currentR2coefficient \n",
        "                         bestNeuralNetworkModel = neuralNetworkModel\n",
        "                         plotR2.append(currentR2coefficient)               \n",
        "                                                  \n",
        "                        \n",
        "    if(bestNeuralNetworkModel):\n",
        "        print(\"Best rMSE for NN, using validation data: \" + str(minrMSE))\n",
        "        print(\"Best rSquared for NN, using validation data: \" + str(maxR2coefficient))\n",
        "        print(\"Best MAE for NN, using validation data: \" + str(minMAE))\n",
        "\n",
        "        #Best values for NN using cross validation\n",
        "        y_pred_holdout = bestNeuralNetworkModel.predict(X_test_holdout)       \n",
        "        if(metricToOptimize == LineaReggressionMetrics.ROOT_MEAN_SQUARED_ERROR):\n",
        "            rMeanSquaredErrorHoldout = sqrt(mean_squared_error(y_test_holdout, y_pred_holdout))\n",
        "            print(\"Best rMSE for NN, using holdout data: \" + str(rMeanSquaredErrorHoldout))\n",
        "            line_plot2(plotrMSE, title='Optimize value rMSE validation data when using solver ' + solver, \n",
        "                   label1='rMSE') \n",
        "        elif(metricToOptimize == LineaReggressionMetrics.R_SQUARED):\n",
        "            R2coefficientHoldout = r2_score(y_test_holdout, y_pred_holdout)\n",
        "            print(\"Best rSquared for NN, using holdout data: \" + str(R2coefficientHoldout))\n",
        "            line_plot2(plotR2, title='Optimize value R2 validation data when using solver ' + solver, \n",
        "                   label1='R2') \n",
        "        else:\n",
        "            meanAbsoluteErrorHoldout= mean_absolute_error(y_test_holdout, y_pred_holdout)\n",
        "            print(\"Best MAE for NN, using holdout data: \" + str(meanAbsoluteErrorHoldout))\n",
        "            line_plot2(plotMAE, title='Optimize value MAE validation data when using solver ' + solver, \n",
        "                   label1='MAE')   \n",
        "        \n",
        "        #Save best model\n",
        "        fileName = \"RESULT/\" + \"bestNNModel_\" + str(metricToOptimize.name) + solver + \".sav\"\n",
        "        saveBestModelNN(bestNeuralNetworkModel,  fileName)"
      ],
      "execution_count": null,
      "outputs": []
    },
    {
      "cell_type": "code",
      "metadata": {
        "id": "tCnEGDASAggy"
      },
      "source": [
        "def runNeuralNetOptimizations2(x_input, y_input, maxIterations, maxHiddenLayerSize, activation, solver, metricToOptimize, hiddenLayerStepSize=100,showOutput=False):\n",
        "    runNeuralNetOptimizer(metricToOptimize, x_input, y_input, maxIterations, maxHiddenLayerSize, activation, solver, hiddenLayerStepSize,showOutput)"
      ],
      "execution_count": null,
      "outputs": []
    },
    {
      "cell_type": "code",
      "metadata": {
        "id": "qRWev2qVAprb"
      },
      "source": [
        "maxIterations = 5\n",
        "maxHiddenLayerSize = 1000\n",
        "hiddenLayerStepSize = 100"
      ],
      "execution_count": null,
      "outputs": []
    },
    {
      "cell_type": "code",
      "metadata": {
        "id": "jlFoTfQTAtHo"
      },
      "source": [
        "def findBestParametersNN(metricToOptimize):\n",
        "    y_preds = np.array([])\n",
        "    rMse = np.array([])\n",
        "    y_actual = np.array([])\n",
        "    \n",
        "    # Using tanh activation function, with Adam Solver\n",
        "    print(\"Using tanh activation function, with Adam Solver\")\n",
        "    runNeuralNetOptimizations2(X_cross, y_cross, maxIterations, maxHiddenLayerSize,\n",
        "                               Activations.tanh.name, Solvers.adam.name, metricToOptimize, hiddenLayerStepSize)\n",
        "    print(\"\\n\")\n",
        "    \n",
        "    # Using tanh activation function, with Gradient Descent Solver\n",
        "    print(\"Using tanh activation function, with Gradient Descent Solver\")\n",
        "    runNeuralNetOptimizations2(X_cross,y_cross, maxIterations, maxHiddenLayerSize,\n",
        "                               Activations.tanh.name, Solvers.sgd.name, metricToOptimize, hiddenLayerStepSize)\n",
        "    print(\"\\n\")\n"
      ],
      "execution_count": null,
      "outputs": []
    },
    {
      "cell_type": "markdown",
      "metadata": {
        "id": "llC-K4yoEPBD"
      },
      "source": [
        "## TÌM RA CÁC GIÁ TRỊ rMSE TỐT NHẤT"
      ]
    },
    {
      "cell_type": "code",
      "metadata": {
        "id": "LZNOVqrT6Kbe"
      },
      "source": [
        "findBestParametersNN(LineaReggressionMetrics.ROOT_MEAN_SQUARED_ERROR)"
      ],
      "execution_count": null,
      "outputs": []
    },
    {
      "cell_type": "markdown",
      "metadata": {
        "id": "qqJS5s-3EieF"
      },
      "source": [
        "##TÌM RA GIÁ TRỊ R2 TỐT NHẤT"
      ]
    },
    {
      "cell_type": "code",
      "metadata": {
        "id": "lAGvrYhh7VmP"
      },
      "source": [
        "findBestParametersNN(LineaReggressionMetrics.R_SQUARED)"
      ],
      "execution_count": null,
      "outputs": []
    },
    {
      "cell_type": "markdown",
      "metadata": {
        "id": "_rIpGYVur3eQ"
      },
      "source": [
        "##TÌM RA GIÁ TRỊ MAE TỐT NHẤT"
      ]
    },
    {
      "cell_type": "code",
      "metadata": {
        "id": "vLZh-rPnrzoX"
      },
      "source": [
        "findBestParametersNN(LineaReggressionMetrics.MEAN_ABSOLUTE_ERROR)"
      ],
      "execution_count": null,
      "outputs": []
    },
    {
      "cell_type": "markdown",
      "metadata": {
        "id": "Fwj99S4cEuJg"
      },
      "source": [
        "## LOAD MODEL TỐI ƯU ĐÃ LƯU VÀ TÍNH TOÁN HIỆU NĂNG"
      ]
    },
    {
      "cell_type": "markdown",
      "metadata": {
        "id": "1Ih9uKwfQhPq"
      },
      "source": [
        "### HIỆU NĂNG MODEL VỚI SOLVER LÀ ADAM"
      ]
    },
    {
      "cell_type": "code",
      "metadata": {
        "id": "yyJa6McDE5QA"
      },
      "source": [
        "fileName = \"RESULT/\" + \"bestNNModel_\" + str(LineaReggressionMetrics.ROOT_MEAN_SQUARED_ERROR.name) + str(Solvers.adam.name) + \".sav\"\n",
        "bestNNModel_rMse = loadModel(fileName)\n",
        "y_pred_holdout_rMSE_NN = None\n",
        "y_pred_holdout_R2_NN = None\n",
        "y_pred_holdout_MAE_NN = None\n",
        "\n",
        "if(bestNNModel_rMse):\n",
        "    y_pred_holdout_rMSE_NN = bestNNModel_rMse.predict(X_test_holdout)\n",
        "    holdOutMeanSquaredError = sqrt(mean_squared_error(y_test_holdout, y_pred_holdout_rMSE_NN))\n",
        "    heading = \"Best_rMSE_Neural_Networks_\" + str(holdOutMeanSquaredError) + \"_adam\"\n",
        "    print(\"Predicted value when using best model rMSE (NN with Solver is adam): \")\n",
        "    print(y_pred_holdout_rMSE_NN)   \n",
        "    print(\"Actual value: \")\n",
        "    print(y_test_holdout)\n",
        "    line_plot(y_test_holdout, y_pred_holdout_rMSE_NN, title = heading)\n",
        "    plotExpectedVsPredictedOutput2(y_test_holdout, y_pred_holdout_rMSE_NN, heading, saveToFile)\n",
        "    #print(\"Weights: \")\n",
        "    #print(bestNNModel_rMse.coefs_)\n",
        "\n",
        "## LOAD MOEL ĐÃ TỐI ƯU R2\n",
        "fileName = \"RESULT/\" + \"bestNNModel_\" + str(LineaReggressionMetrics.R_SQUARED.name) + str(Solvers.adam.name)+ \".sav\"\n",
        "bestNNModel_rSquared = loadModel(fileName)\n",
        "if(bestNNModel_rSquared):\n",
        "    y_pred_holdout_R2_NN = bestNNModel_rSquared.predict(X_test_holdout)\n",
        "    holdOutValidationR2Squared = r2_score(y_test_holdout, y_pred_holdout_R2_NN)\n",
        "    heading = \"Best_rRSquared_Neural_Networks_\" + str(holdOutValidationR2Squared) + \"_adam\"\n",
        "    print(\"Predicted value when using best model R2 (NN with Solver is adam): \")\n",
        "    print(y_pred_holdout_R2_NN)   \n",
        "    print(\"Actual value: \")\n",
        "    print(y_test_holdout)\n",
        "    line_plot(y_test_holdout, y_pred_holdout_R2_NN, title = heading)\n",
        "    plotExpectedVsPredictedOutput2(y_test_holdout, y_pred_holdout_R2_NN, heading, saveToFile)\n",
        "    #print(\"Weights: \")\n",
        "    #print(bestNNModel_rSquared.coefs_)\n",
        "\n",
        "## LOAD MOEL ĐÃ TỐI ƯU MAE\n",
        "fileName = \"RESULT/\" + \"bestNNModel_\" + str(LineaReggressionMetrics.MEAN_ABSOLUTE_ERROR.name) + str(Solvers.adam.name) +\".sav\"\n",
        "bestNNModel_MAE = loadModel(fileName)\n",
        "if(bestNNModel_MAE):\n",
        "    y_pred_holdout_MAE_NN = bestNNModel_MAE.predict(X_test_holdout)\n",
        "    holdOutMeanABError = mean_absolute_error(y_test_holdout, y_pred_holdout_MAE_NN)\n",
        "    heading = \"Best_MAE_Neural_Networks_\" + str(holdOutMeanABError) + \"_adam\"\n",
        "    print(\"Predicted value when using best model MAE (NN with Solver is adam): \")\n",
        "    print(y_pred_holdout_MAE_NN)   \n",
        "    print(\"Actual value: \")\n",
        "    print(y_test_holdout)\n",
        "    line_plot(y_test_holdout, y_pred_holdout_MAE_NN, title = heading)\n",
        "    plotExpectedVsPredictedOutput2(y_test_holdout, y_pred_holdout_MAE_NN, heading, saveToFile)\n",
        "    #print(\"Weights: \")\n",
        "    #print(bestNNModel_MAE.coefs_)\n",
        "\n",
        "plotResult(y_test_holdout, y_pred_holdout_rMSE_NN, y_pred_holdout_R2_NN, y_pred_holdout_MAE_NN, \n",
        "           rMSE = str(holdOutMeanSquaredError),R2 = str(holdOutValidationR2Squared), MAE = str(holdOutMeanABError))"
      ],
      "execution_count": null,
      "outputs": []
    },
    {
      "cell_type": "markdown",
      "metadata": {
        "id": "KMiqEX_WQokv"
      },
      "source": [
        "### HIỆU NĂNG MODEL SỬ DỤNG SOLVER LÀ SGD"
      ]
    },
    {
      "cell_type": "code",
      "metadata": {
        "id": "xYgmQvh6P_8A"
      },
      "source": [
        "fileName = \"RESULT/\" + \"bestNNModel_\" + str(LineaReggressionMetrics.ROOT_MEAN_SQUARED_ERROR.name) + str(Solvers.sgd.name) + \".sav\"\n",
        "bestNNModel_rMse = loadModel(fileName)\n",
        "\n",
        "if(bestNNModel_rMse):\n",
        "    y_pred_holdout_rMSE_NN = bestNNModel_rMse.predict(X_test_holdout)\n",
        "    holdOutMeanSquaredError = sqrt(mean_squared_error(y_test_holdout, y_pred_holdout_rMSE_NN))\n",
        "    heading = \"Best_rMSE_Neural_Networks_\" + str(holdOutMeanSquaredError) + \"_sgd\"\n",
        "    print(\"Predicted value when using best model rMSE (NN with Solver is sgd): \")\n",
        "    print(y_pred_holdout_rMSE_NN)   \n",
        "    print(\"Actual value: \")\n",
        "    print(y_test_holdout)\n",
        "    line_plot(y_test_holdout, y_pred_holdout_rMSE_NN, title = heading)\n",
        "    plotExpectedVsPredictedOutput2(y_test_holdout, y_pred_holdout_rMSE_NN, heading, saveToFile)\n",
        "    #print(\"Weights: \")\n",
        "    #print(bestNNModel_rMse.coefs_)\n",
        "\n",
        "## LOAD MOEL ĐÃ TỐI ƯU R2\n",
        "fileName = \"RESULT/\" + \"bestNNModel_\" + str(LineaReggressionMetrics.R_SQUARED.name) + str(Solvers.sgd.name)+ \".sav\"\n",
        "bestNNModel_rSquared = loadModel(fileName)\n",
        "if(bestNNModel_rSquared):\n",
        "    y_pred_holdout_R2_NN = bestNNModel_rSquared.predict(X_test_holdout)\n",
        "    holdOutValidationR2Squared = r2_score(y_test_holdout, y_pred_holdout_R2_NN)\n",
        "    heading = \"Best_rRSquared_Neural_Networks_\" + str(holdOutValidationR2Squared) + \"_sgd\"\n",
        "    print(\"Predicted value when using best model R2 (NN with Solver is sgd): \")\n",
        "    print(y_pred_holdout_R2_NN)   \n",
        "    print(\"Actual value: \")\n",
        "    print(y_test_holdout)\n",
        "    line_plot(y_test_holdout, y_pred_holdout_R2_NN, title = heading)\n",
        "    plotExpectedVsPredictedOutput2(y_test_holdout, y_pred_holdout_R2_NN, heading, saveToFile)\n",
        "    #print(\"Weights: \")\n",
        "    #print(bestNNModel_rSquared.coefs_)\n",
        "\n",
        "## LOAD MOEL ĐÃ TỐI ƯU MAE\n",
        "fileName = \"RESULT/\" + \"bestNNModel_\" + str(LineaReggressionMetrics.MEAN_ABSOLUTE_ERROR.name) + str(Solvers.sgd.name) +\".sav\"\n",
        "bestNNModel_MAE = loadModel(fileName)\n",
        "if(bestNNModel_MAE):\n",
        "    y_pred_holdout_MAE_NN = bestNNModel_MAE.predict(X_test_holdout)\n",
        "    holdOutMeanABError = mean_absolute_error(y_test_holdout, y_pred_holdout_MAE_NN)\n",
        "    heading = \"Best_MAE_Neural_Networks_\" + str(holdOutMeanABError) + \"_sgd\"\n",
        "    print(\"Predicted value when using best model MAE (NN with Solver is sgd): \")\n",
        "    print(y_pred_holdout_MAE_NN)   \n",
        "    print(\"Actual value: \")\n",
        "    print(y_test_holdout)\n",
        "    line_plot(y_test_holdout, y_pred_holdout_MAE_NN, title = heading)\n",
        "    plotExpectedVsPredictedOutput2(y_test_holdout, y_pred_holdout_MAE_NN, heading, saveToFile)\n",
        "    #print(\"Weights: \")\n",
        "    #print(bestNNModel_MAE.coefs_)\n",
        "\n",
        "plotResult(y_test_holdout, y_pred_holdout_rMSE_NN, y_pred_holdout_R2_NN, y_pred_holdout_MAE_NN, \n",
        "           rMSE = str(holdOutMeanSquaredError),R2 = str(holdOutValidationR2Squared), MAE = str(holdOutMeanABError))"
      ],
      "execution_count": null,
      "outputs": []
    },
    {
      "cell_type": "markdown",
      "metadata": {
        "id": "sP0dq0D3FKDt"
      },
      "source": [
        "## SỬ DỤNG MODEL ĐỂ DỰ ĐOÁN GIÁ SAU 6 THÁNG"
      ]
    },
    {
      "cell_type": "markdown",
      "metadata": {
        "id": "f6wjv1S-Qa-U"
      },
      "source": [
        "### DỰ ĐOÁN VỚI MODEL SỬ DỤNG SOLVER ADAM"
      ]
    },
    {
      "cell_type": "code",
      "metadata": {
        "id": "b_JK-TQ2FSop"
      },
      "source": [
        "# Load model with best rMse and make prediction\n",
        "plotNNrMSE = []\n",
        "plotNNR2 = []\n",
        "plotNNMAE = []\n",
        "fileName = \"RESULT/\" + \"bestNNModel_\" + str(LineaReggressionMetrics.ROOT_MEAN_SQUARED_ERROR.name) + str(Solvers.adam.name) + \".sav\"\n",
        "bestNN = joblib.load(fileName)\n",
        "\n",
        "fileName1 = \"RESULT/\" + \"bestNNModel_\" + str(LineaReggressionMetrics.R_SQUARED.name) + str(Solvers.adam.name)+ \".sav\"\n",
        "bestNNModel_rS = joblib.load(fileName1)\n",
        "\n",
        "fileName2 = \"RESULT/\" + \"bestNNModel_\" + str(LineaReggressionMetrics.MEAN_ABSOLUTE_ERROR.name) + str(Solvers.adam.name) +\".sav\"\n",
        "bestNNModel_MAE = joblib.load(fileName2)\n",
        "\n",
        "y_pred =  makePrediction(bestNN, ico_0x)\n",
        "y_pred1 = makePrediction(bestNN, ico_modum)\n",
        "y_pred2 = makePrediction(bestNN, ico_crypto20)\n",
        "plotNNrMSE.append(y_pred)\n",
        "plotNNrMSE.append(y_pred1)\n",
        "plotNNrMSE.append(y_pred2)\n",
        "y_pred_holdout = bestNN.predict(X_test_holdout)\n",
        "R2coefficientHoldout = r2_score(y_test_holdout, y_pred_holdout)\n",
        "rMeanSquaredErrorHoldout = sqrt(mean_squared_error(y_test_holdout, y_pred_holdout))\n",
        "meanAbsoluteErrorHoldout= mean_absolute_error(y_test_holdout, y_pred_holdout)\n",
        "print(\"Price of 3 ICO using best model rMSE\")\n",
        "print(\"Predicted value of ICO 0x (real price: 1.08) after 6 months using best model rMSE: \",y_pred)\n",
        "print(\"Predicted value of ICO modum (real price: 2.79) after 6 months using best model rMSE: \",y_pred1)\n",
        "print(\"Predicted value of ICO crypto20 (real price: 0.9786) after 6 months using best model rMSE: \",y_pred2)\n",
        "print(\"Value rMSE, R2, MAE of best model rMSE\")\n",
        "print(\"Value rMSE: \", rMeanSquaredErrorHoldout)\n",
        "print(\"Value R2: \", R2coefficientHoldout)\n",
        "print(\"Value MAE: \", meanAbsoluteErrorHoldout) \n",
        "print(\"\\n\")       \n",
        "print(\"*************************************************************************************\")\n",
        "\n",
        "y_pred3 = makePrediction(bestNNModel_rS, ico_0x)\n",
        "y_pred4 = makePrediction(bestNNModel_rS, ico_modum)\n",
        "y_pred5 = makePrediction(bestNNModel_rS, ico_crypto20)\n",
        "plotNNR2.append(y_pred3)\n",
        "plotNNR2.append(y_pred4)\n",
        "plotNNR2.append(y_pred5)\n",
        "y_pred_holdout = bestNNModel_rS.predict(X_test_holdout)\n",
        "R2coefficientHoldout = r2_score(y_test_holdout, y_pred_holdout)\n",
        "rMeanSquaredErrorHoldout = sqrt(mean_squared_error(y_test_holdout, y_pred_holdout))\n",
        "meanAbsoluteErrorHoldout= mean_absolute_error(y_test_holdout, y_pred_holdout)\n",
        "print(\"Price of 3 ICO using best model R2\")\n",
        "print(\"Predicted value of ICO 0x (real price: 1.08) after 6 months using best model R2: \",y_pred3)\n",
        "print(\"Predicted value of ICO modum (real price: 2.79) after 6 months using best model R2: \",y_pred4)\n",
        "print(\"Predicted value of ICO crypto20 (real price: 0.9786) after 6 months using best model R2: \",y_pred5)\n",
        "print(\"Value rMSE, R2, MAE of best model R2\")\n",
        "print(\"Value rMSE: \", rMeanSquaredErrorHoldout)\n",
        "print(\"Value R2: \", R2coefficientHoldout)\n",
        "print(\"Value MAE: \", meanAbsoluteErrorHoldout) \n",
        "print(\"\\n\")       \n",
        "print(\"*************************************************************************************\")\n",
        "\n",
        "y_pred3 = makePrediction(bestNNModel_MAE, ico_0x)\n",
        "y_pred4 = makePrediction(bestNNModel_MAE, ico_modum)\n",
        "y_pred5 = makePrediction(bestNNModel_MAE, ico_crypto20)\n",
        "plotNNMAE.append(y_pred3)\n",
        "plotNNMAE.append(y_pred4)\n",
        "plotNNMAE.append(y_pred5)\n",
        "y_pred_holdout = bestNNModel_MAE.predict(X_test_holdout)\n",
        "R2coefficientHoldout = r2_score(y_test_holdout, y_pred_holdout)\n",
        "rMeanSquaredErrorHoldout = sqrt(mean_squared_error(y_test_holdout, y_pred_holdout))\n",
        "meanAbsoluteErrorHoldout= mean_absolute_error(y_test_holdout, y_pred_holdout)\n",
        "print(\"Price of 3 ICO using best model MAE\")\n",
        "print(\"Predicted value of ICO 0x (real price: 1.08) after 6 months using best model MAE: \",y_pred3)\n",
        "print(\"Predicted value of ICO modum (real price: 2.79) after 6 months using best model MAE: \",y_pred4)\n",
        "print(\"Predicted value of ICO crypto20 (real price: 0.9786) after 6 months using best model MAE: \",y_pred5)\n",
        "print(\"Value rMSE, R2, MAE of best model MAE\")\n",
        "print(\"Value rMSE: \", rMeanSquaredErrorHoldout)\n",
        "print(\"Value R2: \", R2coefficientHoldout)\n",
        "print(\"Value MAE: \", meanAbsoluteErrorHoldout)  \n",
        "print(\"\\n\")       \n",
        "print(\"*************************************************************************************\")\n",
        "plotPredicted(plotNNrMSE, plotNNR2, plotNNMAE)\n",
        "plotResult2(y_test_holdout, y_pred_holdout_rMSE, y_pred_holdout_R2, y_pred_holdout_MAE, y_pred_holdout_rMSE_NN, \n",
        "                y_pred_holdout_R2_NN, y_pred_holdout_MAE_NN, solver = Solvers.adam)"
      ],
      "execution_count": null,
      "outputs": []
    },
    {
      "cell_type": "markdown",
      "metadata": {
        "id": "vxSrp-pZP_DK"
      },
      "source": [
        "### DỰ ĐOÁN VỚI MODEL SỬ DỤNG SOLVER SGD"
      ]
    },
    {
      "cell_type": "code",
      "metadata": {
        "id": "Woss3l9hQ5u9"
      },
      "source": [
        "# Load model with best rMse and make prediction\n",
        "plotNNrMSE = []\n",
        "plotNNR2 = []\n",
        "plotNNMAE = []\n",
        "fileName = \"RESULT/\" + \"bestNNModel_\" + str(LineaReggressionMetrics.ROOT_MEAN_SQUARED_ERROR.name) + str(Solvers.sgd.name) + \".sav\"\n",
        "bestNN = joblib.load(fileName)\n",
        "\n",
        "fileName1 = \"RESULT/\" + \"bestNNModel_\" + str(LineaReggressionMetrics.R_SQUARED.name) + str(Solvers.sgd.name)+ \".sav\"\n",
        "bestNNModel_rS = joblib.load(fileName1)\n",
        "\n",
        "fileName2 = \"RESULT/\" + \"bestNNModel_\" + str(LineaReggressionMetrics.MEAN_ABSOLUTE_ERROR.name) + str(Solvers.sgd.name) +\".sav\"\n",
        "bestNNModel_MAE = joblib.load(fileName2)\n",
        "\n",
        "y_pred =  makePrediction(bestNN, ico_0x)\n",
        "y_pred1 = makePrediction(bestNN, ico_modum)\n",
        "y_pred2 = makePrediction(bestNN, ico_crypto20)\n",
        "plotNNrMSE.append(y_pred)\n",
        "plotNNrMSE.append(y_pred1)\n",
        "plotNNrMSE.append(y_pred2)\n",
        "y_pred_holdout = bestNN.predict(X_test_holdout)\n",
        "R2coefficientHoldout = r2_score(y_test_holdout, y_pred_holdout)\n",
        "rMeanSquaredErrorHoldout = sqrt(mean_squared_error(y_test_holdout, y_pred_holdout))\n",
        "meanAbsoluteErrorHoldout= mean_absolute_error(y_test_holdout, y_pred_holdout)\n",
        "print(\"Price of 3 ICO using best model rMSE\")\n",
        "print(\"Predicted value of ICO 0x (real price: 1.08) after 6 months using best model rMSE: \",y_pred)\n",
        "print(\"Predicted value of ICO modum (real price: 2.79) after 6 months using best model rMSE: \",y_pred1)\n",
        "print(\"Predicted value of ICO crypto20 (real price: 0.9786) after 6 months using best model rMSE: \",y_pred2)\n",
        "print(\"Value rMSE, R2, MAE of best model rMSE\")\n",
        "print(\"Value rMSE: \", rMeanSquaredErrorHoldout)\n",
        "print(\"Value R2: \", R2coefficientHoldout)\n",
        "print(\"Value MAE: \", meanAbsoluteErrorHoldout) \n",
        "print(\"\\n\")       \n",
        "print(\"*************************************************************************************\")\n",
        "\n",
        "y_pred3 = makePrediction(bestNNModel_rS, ico_0x)\n",
        "y_pred4 = makePrediction(bestNNModel_rS, ico_modum)\n",
        "y_pred5 = makePrediction(bestNNModel_rS, ico_crypto20)\n",
        "plotNNR2.append(y_pred3)\n",
        "plotNNR2.append(y_pred4)\n",
        "plotNNR2.append(y_pred5)\n",
        "y_pred_holdout = bestNNModel_rS.predict(X_test_holdout)\n",
        "R2coefficientHoldout = r2_score(y_test_holdout, y_pred_holdout)\n",
        "rMeanSquaredErrorHoldout = sqrt(mean_squared_error(y_test_holdout, y_pred_holdout))\n",
        "meanAbsoluteErrorHoldout= mean_absolute_error(y_test_holdout, y_pred_holdout)\n",
        "print(\"Price of 3 ICO using best model R2\")\n",
        "print(\"Predicted value of ICO 0x (real price: 1.08) after 6 months using best model R2: \",y_pred3)\n",
        "print(\"Predicted value of ICO modum (real price: 2.79) after 6 months using best model R2: \",y_pred4)\n",
        "print(\"Predicted value of ICO crypto20 (real price: 0.9786) after 6 months using best model R2: \",y_pred5)\n",
        "print(\"Value rMSE, R2, MAE of best model R2\")\n",
        "print(\"Value rMSE: \", rMeanSquaredErrorHoldout)\n",
        "print(\"Value R2: \", R2coefficientHoldout)\n",
        "print(\"Value MAE: \", meanAbsoluteErrorHoldout) \n",
        "print(\"\\n\")       \n",
        "print(\"*************************************************************************************\")\n",
        "\n",
        "y_pred3 = makePrediction(bestNNModel_MAE, ico_0x)\n",
        "y_pred4 = makePrediction(bestNNModel_MAE, ico_modum)\n",
        "y_pred5 = makePrediction(bestNNModel_MAE, ico_crypto20)\n",
        "plotNNMAE.append(y_pred3)\n",
        "plotNNMAE.append(y_pred4)\n",
        "plotNNMAE.append(y_pred5)\n",
        "y_pred_holdout = bestNNModel_MAE.predict(X_test_holdout)\n",
        "R2coefficientHoldout = r2_score(y_test_holdout, y_pred_holdout)\n",
        "rMeanSquaredErrorHoldout = sqrt(mean_squared_error(y_test_holdout, y_pred_holdout))\n",
        "meanAbsoluteErrorHoldout= mean_absolute_error(y_test_holdout, y_pred_holdout)\n",
        "print(\"Price of 3 ICO using best model MAE\")\n",
        "print(\"Predicted value of ICO 0x (real price: 1.08) after 6 months using best model MAE: \",y_pred3)\n",
        "print(\"Predicted value of ICO modum (real price: 2.79) after 6 months using best model MAE: \",y_pred4)\n",
        "print(\"Predicted value of ICO crypto20 (real price: 0.9786) after 6 months using best model MAE: \",y_pred5)\n",
        "print(\"Value rMSE, R2, MAE of best model MAE\")\n",
        "print(\"Value rMSE: \", rMeanSquaredErrorHoldout)\n",
        "print(\"Value R2: \", R2coefficientHoldout)\n",
        "print(\"Value MAE: \", meanAbsoluteErrorHoldout)  \n",
        "print(\"\\n\")       \n",
        "print(\"*************************************************************************************\")\n",
        "plotPredicted(plotNNrMSE, plotNNR2, plotNNMAE)\n",
        "plotResult2(y_test_holdout, y_pred_holdout_rMSE, y_pred_holdout_R2, y_pred_holdout_MAE, y_pred_holdout_rMSE_NN, \n",
        "                y_pred_holdout_R2_NN, y_pred_holdout_MAE_NN, solver = Solvers.sgd)"
      ],
      "execution_count": null,
      "outputs": []
    },
    {
      "cell_type": "markdown",
      "metadata": {
        "id": "tIO5_RQfQuhw"
      },
      "source": [
        "## DOWNLOAD CÁC FILE\n"
      ]
    },
    {
      "cell_type": "code",
      "metadata": {
        "id": "05BM5pPe3znt"
      },
      "source": [
        "!zip -r /content/IMAGE_LINE_PLOT.zip /content/IMAGE_LINE_PLOT\n",
        "files.download(\"/content/IMAGE_LINE_PLOT.zip\")\n",
        "\n",
        "!zip -r /content/IMAGE_RESULT.zip /content/IMAGE_RESULT\n",
        "files.download(\"/content/IMAGE_RESULT.zip\")\n",
        "\n",
        "!zip -r /content/IMAGE_SCATTER.zip /content/IMAGE_SCATTER\n",
        "files.download(\"/content/IMAGE_SCATTER.zip\")\n",
        "\n",
        "!zip -r /content/RESULT.zip /content/RESULT\n",
        "files.download(\"/content/RESULT.zip\")\n",
        "\n",
        "!zip -r /content/LINE_PLOT_3.zip /content/LINE_PLOT_3\n",
        "files.download(\"/content/LINE_PLOT_3.zip\")\n",
        "\n",
        "!zip -r /content/LINE_PLOT_6.zip /content/LINE_PLOT_6\n",
        "files.download(\"/content/LINE_PLOT_6.zip\")"
      ],
      "execution_count": null,
      "outputs": []
    }
  ]
}